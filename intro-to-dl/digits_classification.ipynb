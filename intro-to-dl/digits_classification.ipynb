{
  "nbformat": 4,
  "nbformat_minor": 0,
  "metadata": {
    "kernelspec": {
      "name": "python3",
      "display_name": "Python 3"
    },
    "language_info": {
      "codemirror_mode": {
        "name": "ipython",
        "version": 3
      },
      "file_extension": ".py",
      "mimetype": "text/x-python",
      "name": "python",
      "nbconvert_exporter": "python",
      "pygments_lexer": "ipython3",
      "version": "3.6.5"
    },
    "colab": {
      "name": "Copy of digits_classification.ipynb",
      "provenance": [],
      "collapsed_sections": [],
      "include_colab_link": true
    },
    "accelerator": "GPU"
  },
  "cells": [
    {
      "cell_type": "markdown",
      "metadata": {
        "id": "view-in-github",
        "colab_type": "text"
      },
      "source": [
        "<a href=\"https://colab.research.google.com/github/YangJiao85/AdvancedML/blob/master/Copy_of_digits_classification.ipynb\" target=\"_parent\"><img src=\"https://colab.research.google.com/assets/colab-badge.svg\" alt=\"Open In Colab\"/></a>"
      ]
    },
    {
      "cell_type": "code",
      "metadata": {
        "id": "IbxeH84YJHoF",
        "colab_type": "code",
        "colab": {}
      },
      "source": [
        "# set tf 1.x for colab\n",
        "%tensorflow_version 1.x"
      ],
      "execution_count": 0,
      "outputs": []
    },
    {
      "cell_type": "code",
      "metadata": {
        "id": "CDGSiRYPJfjd",
        "colab_type": "code",
        "outputId": "b821584b-2e4b-4798-a650-8cd09c4afea1",
        "colab": {
          "base_uri": "https://localhost:8080/",
          "height": 341
        }
      },
      "source": [
        "! shred -u setup_google_colab.py\n",
        "! wget https://raw.githubusercontent.com/hse-aml/intro-to-dl/master/setup_google_colab.py -O setup_google_colab.py\n",
        "import setup_google_colab\n",
        "# please, uncomment the week you're working on\n",
        "# setup_google_colab.setup_week1()\n",
        "setup_google_colab.setup_week2()\n",
        "# setup_google_colab.setup_week2_honor()\n",
        "# setup_google_colab.setup_week3()\n",
        "# setup_google_colab.setup_week4()\n",
        "# setup_google_colab.setup_week5()\n",
        "# setup_google_colab.setup_week6()"
      ],
      "execution_count": 2,
      "outputs": [
        {
          "output_type": "stream",
          "text": [
            "shred: setup_google_colab.py: failed to open for writing: No such file or directory\n",
            "--2020-03-16 20:35:54--  https://raw.githubusercontent.com/hse-aml/intro-to-dl/master/setup_google_colab.py\n",
            "Resolving raw.githubusercontent.com (raw.githubusercontent.com)... 151.101.0.133, 151.101.64.133, 151.101.128.133, ...\n",
            "Connecting to raw.githubusercontent.com (raw.githubusercontent.com)|151.101.0.133|:443... connected.\n",
            "HTTP request sent, awaiting response... 200 OK\n",
            "Length: 3636 (3.6K) [text/plain]\n",
            "Saving to: ‘setup_google_colab.py’\n",
            "\n",
            "setup_google_colab. 100%[===================>]   3.55K  --.-KB/s    in 0s      \n",
            "\n",
            "2020-03-16 20:35:54 (96.5 MB/s) - ‘setup_google_colab.py’ saved [3636/3636]\n",
            "\n",
            "**************************************************\n",
            "inception_v3_weights_tf_dim_ordering_tf_kernels_notop.h5\n",
            "**************************************************\n",
            "cifar-10-batches-py.tar.gz\n",
            "**************************************************\n",
            "mnist.npz\n"
          ],
          "name": "stdout"
        }
      ]
    },
    {
      "cell_type": "markdown",
      "metadata": {
        "id": "Lx0WB726JHoM",
        "colab_type": "text"
      },
      "source": [
        "# MNIST digits classification with TensorFlow"
      ]
    },
    {
      "cell_type": "markdown",
      "metadata": {
        "id": "0iijTizxJHoO",
        "colab_type": "text"
      },
      "source": [
        "<img src=\"https://github.com/hse-aml/intro-to-dl/blob/master/week2/v2/images/mnist_sample.png?raw=1\" style=\"width:30%\">"
      ]
    },
    {
      "cell_type": "code",
      "metadata": {
        "id": "xzDOw2vGJHoP",
        "colab_type": "code",
        "outputId": "7c6e7196-a1b8-4619-81a3-a2b6fb5d1a69",
        "colab": {
          "base_uri": "https://localhost:8080/",
          "height": 53
        }
      },
      "source": [
        "import numpy as np\n",
        "from sklearn.metrics import accuracy_score\n",
        "from matplotlib import pyplot as plt\n",
        "%matplotlib inline\n",
        "import tensorflow as tf\n",
        "print(\"We're using TF\", tf.__version__)\n",
        "\n",
        "import sys\n",
        "sys.path.append(\"../..\")\n",
        "import grading\n",
        "\n",
        "import matplotlib_utils\n",
        "from importlib import reload\n",
        "reload(matplotlib_utils)\n",
        "\n",
        "import grading_utils\n",
        "reload(grading_utils)\n",
        "\n",
        "import keras_utils\n",
        "from keras_utils import reset_tf_session"
      ],
      "execution_count": 3,
      "outputs": [
        {
          "output_type": "stream",
          "text": [
            "We're using TF 1.15.0\n"
          ],
          "name": "stdout"
        },
        {
          "output_type": "stream",
          "text": [
            "Using TensorFlow backend.\n"
          ],
          "name": "stderr"
        }
      ]
    },
    {
      "cell_type": "markdown",
      "metadata": {
        "id": "OJqG4RFgJHoT",
        "colab_type": "text"
      },
      "source": [
        "# Fill in your Coursera token and email\n",
        "To successfully submit your answers to our grader, please fill in your Coursera submission token and email"
      ]
    },
    {
      "cell_type": "code",
      "metadata": {
        "id": "tgkqtkFHJHoU",
        "colab_type": "code",
        "colab": {}
      },
      "source": [
        "grader = grading.Grader(assignment_key=\"XtD7ho3TEeiHQBLWejjYAA\", \n",
        "                        all_parts=[\"9XaAS\", \"vmogZ\", \"RMv95\", \"i8bgs\", \"rE763\"])"
      ],
      "execution_count": 0,
      "outputs": []
    },
    {
      "cell_type": "code",
      "metadata": {
        "id": "EX3aQ3eFJHoW",
        "colab_type": "code",
        "colab": {}
      },
      "source": [
        "# token expires every 30 min\n",
        "COURSERA_TOKEN = \"TJmJ3D9K9k5JpNif\"      # \"### YOUR TOKEN HERE ###\"\n",
        "COURSERA_EMAIL = \"jiaoyang.cn@gmail.com\" # \"### YOUR EMAIL HERE ###\""
      ],
      "execution_count": 0,
      "outputs": []
    },
    {
      "cell_type": "markdown",
      "metadata": {
        "id": "dS6V8ohYJHoY",
        "colab_type": "text"
      },
      "source": [
        "# Look at the data\n",
        "\n",
        "In this task we have 50000 28x28 images of digits from 0 to 9.\n",
        "We will train a classifier on this data."
      ]
    },
    {
      "cell_type": "code",
      "metadata": {
        "id": "Sa5lnQJCJHoY",
        "colab_type": "code",
        "outputId": "1d1d65ae-771a-4925-897d-0f7d3a2dfa2f",
        "colab": {
          "base_uri": "https://localhost:8080/",
          "height": 53
        }
      },
      "source": [
        "import preprocessed_mnist\n",
        "X_train, y_train, X_val, y_val, X_test, y_test = preprocessed_mnist.load_dataset()"
      ],
      "execution_count": 6,
      "outputs": [
        {
          "output_type": "stream",
          "text": [
            "Downloading data from https://s3.amazonaws.com/img-datasets/mnist.npz\n",
            "10780672/11490434 [===========================>..] - ETA: 0s"
          ],
          "name": "stdout"
        }
      ]
    },
    {
      "cell_type": "code",
      "metadata": {
        "id": "91pmFHFRJHoa",
        "colab_type": "code",
        "outputId": "2ed7ada2-7cbf-4c1f-acdb-ed2e4ae7e436",
        "colab": {
          "base_uri": "https://localhost:8080/",
          "height": 693
        }
      },
      "source": [
        "# X contains rgb values divided by 255\n",
        "print(\"X_train [shape %s] sample patch:\\n\" % (str(X_train.shape)), X_train[1, 15:20, 5:10])\n",
        "print(\"A closeup of a sample patch:\")\n",
        "plt.imshow(X_train[1, 15:20, 5:10], cmap=\"Greys\")\n",
        "plt.show()\n",
        "print(\"And the whole sample:\")\n",
        "plt.imshow(X_train[1], cmap=\"Greys\")\n",
        "plt.show()\n",
        "print(\"y_train [shape %s] 10 samples:\\n\" % (str(y_train.shape)), y_train[:10])"
      ],
      "execution_count": 7,
      "outputs": [
        {
          "output_type": "stream",
          "text": [
            "X_train [shape (50000, 28, 28)] sample patch:\n",
            " [[0.         0.29803922 0.96470588 0.98823529 0.43921569]\n",
            " [0.         0.33333333 0.98823529 0.90196078 0.09803922]\n",
            " [0.         0.33333333 0.98823529 0.8745098  0.        ]\n",
            " [0.         0.33333333 0.98823529 0.56862745 0.        ]\n",
            " [0.         0.3372549  0.99215686 0.88235294 0.        ]]\n",
            "A closeup of a sample patch:\n"
          ],
          "name": "stdout"
        },
        {
          "output_type": "display_data",
          "data": {
            "image/png": "[encoded data removed]",
            "text/plain": [
              "<Figure size 432x288 with 1 Axes>"
            ]
          },
          "metadata": {
            "tags": []
          }
        },
        {
          "output_type": "stream",
          "text": [
            "And the whole sample:\n"
          ],
          "name": "stdout"
        },
        {
          "output_type": "display_data",
          "data": {
            "image/png": "[encoded data removed]",
            "text/plain": [
              "<Figure size 432x288 with 1 Axes>"
            ]
          },
          "metadata": {
            "tags": []
          }
        },
        {
          "output_type": "stream",
          "text": [
            "y_train [shape (50000,)] 10 samples:\n",
            " [5 0 4 1 9 2 1 3 1 4]\n"
          ],
          "name": "stdout"
        }
      ]
    },
    {
      "cell_type": "markdown",
      "metadata": {
        "id": "hbKQ-dDOJHob",
        "colab_type": "text"
      },
      "source": [
        "# Linear model\n",
        "\n",
        "Your task is to train a linear classifier $\\vec{x} \\rightarrow y$ with SGD using TensorFlow.\n",
        "\n",
        "You will need to calculate a logit (a linear transformation) $z_k$ for each class: \n",
        "$$z_k = \\vec{x} \\cdot \\vec{w_k} + b_k \\quad k = 0..9$$\n",
        "\n",
        "And transform logits $z_k$ to valid probabilities $p_k$ with softmax: \n",
        "$$p_k = \\frac{e^{z_k}}{\\sum_{i=0}^{9}{e^{z_i}}} \\quad k = 0..9$$\n",
        "\n",
        "We will use a cross-entropy loss to train our multi-class classifier:\n",
        "$$\\text{cross-entropy}(y, p) = -\\sum_{k=0}^{9}{\\log(p_k)[y = k]}$$ \n",
        "\n",
        "where \n",
        "$$\n",
        "[x]=\\begin{cases}\n",
        "       1, \\quad \\text{if $x$ is true} \\\\\n",
        "       0, \\quad \\text{otherwise}\n",
        "    \\end{cases}\n",
        "$$\n",
        "\n",
        "Cross-entropy minimization pushes $p_k$ close to 1 when $y = k$, which is what we want.\n",
        "\n",
        "Here's the plan:\n",
        "* Flatten the images (28x28 -> 784) with `X_train.reshape((X_train.shape[0], -1))` to simplify our linear model implementation\n",
        "* Use a matrix placeholder for flattened `X_train`\n",
        "* Convert `y_train` to one-hot encoded vectors that are needed for cross-entropy\n",
        "* Use a shared variable `W` for all weights (a column $\\vec{w_k}$ per class) and `b` for all biases.\n",
        "* Aim for ~0.93 validation accuracy"
      ]
    },
    {
      "cell_type": "code",
      "metadata": {
        "id": "LG7dixKpJHoc",
        "colab_type": "code",
        "outputId": "ee41a147-791f-4fce-b931-f686d0e012cb",
        "colab": {
          "base_uri": "https://localhost:8080/",
          "height": 53
        }
      },
      "source": [
        "X_train_flat = X_train.reshape((X_train.shape[0], -1))\n",
        "print(X_train_flat.shape)\n",
        "\n",
        "X_val_flat = X_val.reshape((X_val.shape[0], -1))\n",
        "print(X_val_flat.shape)"
      ],
      "execution_count": 8,
      "outputs": [
        {
          "output_type": "stream",
          "text": [
            "(50000, 784)\n",
            "(10000, 784)\n"
          ],
          "name": "stdout"
        }
      ]
    },
    {
      "cell_type": "code",
      "metadata": {
        "id": "VogkV-F8JHod",
        "colab_type": "code",
        "outputId": "4c3f1d50-3868-4fbb-de0b-63c70327e2c8",
        "colab": {
          "base_uri": "https://localhost:8080/",
          "height": 89
        }
      },
      "source": [
        "import keras\n",
        "\n",
        "y_train_oh = keras.utils.to_categorical(y_train, 10)\n",
        "y_val_oh = keras.utils.to_categorical(y_val, 10)\n",
        "\n",
        "print(y_train_oh.shape)\n",
        "print(y_train_oh[:3], y_train[:3])"
      ],
      "execution_count": 9,
      "outputs": [
        {
          "output_type": "stream",
          "text": [
            "(50000, 10)\n",
            "[[0. 0. 0. 0. 0. 1. 0. 0. 0. 0.]\n",
            " [1. 0. 0. 0. 0. 0. 0. 0. 0. 0.]\n",
            " [0. 0. 0. 0. 1. 0. 0. 0. 0. 0.]] [5 0 4]\n"
          ],
          "name": "stdout"
        }
      ]
    },
    {
      "cell_type": "code",
      "metadata": {
        "id": "11fyM-brJHoe",
        "colab_type": "code",
        "colab": {}
      },
      "source": [
        "# run this again if you remake your graph\n",
        "s = reset_tf_session()"
      ],
      "execution_count": 0,
      "outputs": []
    },
    {
      "cell_type": "code",
      "metadata": {
        "id": "-P0g6-bgJHog",
        "colab_type": "code",
        "colab": {}
      },
      "source": [
        "# Model parameters: W and b\n",
        "W = tf.get_variable(\"W\", shape = (X_train_flat.shape[1], 10), dtype=tf.float32) ### YOUR CODE HERE ### tf.get_variable(...) with shape[0] = 784\n",
        "b = tf.get_variable(\"b\", shape = (10), dtype=tf.float32) ### YOUR CODE HERE ### tf.get_variable(...)"
      ],
      "execution_count": 0,
      "outputs": []
    },
    {
      "cell_type": "code",
      "metadata": {
        "id": "3Po1tR1OJHoh",
        "colab_type": "code",
        "colab": {}
      },
      "source": [
        "# Placeholders for the input data\n",
        "input_X = tf.placeholder(tf.float32, shape = (None, X_train_flat.shape[1]), name = \"input_X\") ### YOUR CODE HERE ### tf.placeholder(...) for flat X with shape[0] = None for any batch size\n",
        "input_y = tf.placeholder(tf.float32, shape = (None, 10), name = \"input_y\") ### YOUR CODE HERE ### tf.placeholder(...) for one-hot encoded true labels"
      ],
      "execution_count": 0,
      "outputs": []
    },
    {
      "cell_type": "code",
      "metadata": {
        "id": "SeUbKlqxJHoi",
        "colab_type": "code",
        "colab": {}
      },
      "source": [
        "# Compute predictions\n",
        "logits = input_X @ W + b                      ### YOUR CODE HERE ### logits for input_X, resulting shape should be [input_X.shape[0], 10]\n",
        "probas = tf.nn.softmax(logits)                ### YOUR CODE HERE ### apply tf.nn.softmax to logits\n",
        "classes = tf.argmax(probas, axis = 1)         ### YOUR CODE HERE ### apply tf.argmax to find a class index with highest probability\n",
        "\n",
        "# Loss should be a scalar number: average loss over all the objects with tf.reduce_mean().\n",
        "# Use tf.nn.softmax_cross_hentropy_with_logits on top of one-hot encoded input_y and logits.\n",
        "# It is identical to calculating cross-entropy on top of probas, but is more numerically friendly (read the docs).\n",
        "loss = tf.reduce_mean(tf.nn.softmax_cross_entropy_with_logits(labels = input_y, logits = logits))   ### YOUR CODE HERE ### cross-entropy loss\n",
        "\n",
        "# Use a default tf.train.AdamOptimizer to get an SGD step\n",
        "step = tf.train.AdamOptimizer().minimize(loss)         ### YOUR CODE HERE ### optimizer step that minimizes the loss"
      ],
      "execution_count": 0,
      "outputs": []
    },
    {
      "cell_type": "code",
      "metadata": {
        "scrolled": false,
        "id": "aByFJqGbJHoj",
        "colab_type": "code",
        "colab": {
          "base_uri": "https://localhost:8080/",
          "height": 309
        },
        "outputId": "8c768e3f-68dd-4130-d695-a14f06154d30"
      },
      "source": [
        "s.run(tf.global_variables_initializer())\n",
        "\n",
        "BATCH_SIZE = 512\n",
        "EPOCHS = 40\n",
        "\n",
        "# for logging the progress right here in Jupyter (for those who don't have TensorBoard)\n",
        "simpleTrainingCurves = matplotlib_utils.SimpleTrainingCurves(\"cross-entropy\", \"accuracy\")\n",
        "\n",
        "for epoch in range(EPOCHS):  # we finish an epoch when we've looked at all training samples\n",
        "    \n",
        "    batch_losses = []\n",
        "    for batch_start in range(0, X_train_flat.shape[0], BATCH_SIZE):  # data is already shuffled\n",
        "        _, batch_loss = s.run([step, loss], {input_X: X_train_flat[batch_start:batch_start+BATCH_SIZE], \n",
        "                                             input_y: y_train_oh[batch_start:batch_start+BATCH_SIZE]})\n",
        "        # collect batch losses, this is almost free as we need a forward pass for backprop anyway\n",
        "        batch_losses.append(batch_loss)\n",
        "\n",
        "    train_loss = np.mean(batch_losses)\n",
        "    val_loss = s.run(loss, {input_X: X_val_flat, input_y: y_val_oh})  # this part is usually small\n",
        "    train_accuracy = accuracy_score(y_train, s.run(classes, {input_X: X_train_flat}))  # this is slow and usually skipped\n",
        "    valid_accuracy = accuracy_score(y_val, s.run(classes, {input_X: X_val_flat}))  \n",
        "    simpleTrainingCurves.add(train_loss, val_loss, train_accuracy, valid_accuracy)"
      ],
      "execution_count": 76,
      "outputs": [
        {
          "output_type": "display_data",
          "data": {
            "text/html": [
              "<img src=\"data:image/jpeg;base64,/9j/4AAQSkZJRgABAQEASABIAAD/2wBDAAIBAQEBAQIBAQECAgICAgQDAgICAgUEBAMEBgUGBgYFBgYGBwkIBgcJBwYGCAsICQoKCgoKBggLDAsKDAkKCgr/2wBDAQICAgICAgUDAwUKBwYHCgoKCgoKCgoKCgoKCgoKCgoKCgoKCgoKCgoKCgoKCgoKCgoKCgoKCgoKCgoKCgoKCgr/wAARCAEgA2ADASIAAhEBAxEB/8QAHwAAAQUBAQEBAQEAAAAAAAAAAAECAwQFBgcICQoL/8QAtRAAAgEDAwIEAwUFBAQAAAF9AQIDAAQRBRIhMUEGE1FhByJxFDKBkaEII0KxwRVS0fAkM2JyggkKFhcYGRolJicoKSo0NTY3ODk6Q0RFRkdISUpTVFVWV1hZWmNkZWZnaGlqc3R1dnd4eXqDhIWGh4iJipKTlJWWl5iZmqKjpKWmp6ipqrKztLW2t7i5usLDxMXGx8jJytLT1NXW19jZ2uHi4%2BTl5ufo6erx8vP09fb3%2BPn6/8QAHwEAAwEBAQEBAQEBAQAAAAAAAAECAwQFBgcICQoL/8QAtREAAgECBAQDBAcFBAQAAQJ3AAECAxEEBSExBhJBUQdhcRMiMoEIFEKRobHBCSMzUvAVYnLRChYkNOEl8RcYGRomJygpKjU2Nzg5OkNERUZHSElKU1RVVldYWVpjZGVmZ2hpanN0dXZ3eHl6goOEhYaHiImKkpOUlZaXmJmaoqOkpaanqKmqsrO0tba3uLm6wsPExcbHyMnK0tPU1dbX2Nna4uPk5ebn6Onq8vP09fb3%2BPn6/9oADAMBAAIRAxEAPwD9/KKKKACiiigAooooAKKKKACiiigAooooAKKKKACiiigAooooAKKKKACiiigAooooAKKKKACiiigAooooAKKKKACiiigAooooAKKKKACiiigAooooAKKKKACiiigAooooAKKKKACiiigAooooAKKKKACiiigAooooAKKKKACiiigAooooAKKKKACiiigAooooAKKKKACiiigAooooAKKKKACiiigAooooAKKKKACiiigAooooAKKKKACiiigAooooAKKKKACiiigAooooAKKKKACiiigAooooAKKKKACiiigAooooAKKKKACiiigAooooAKKKKACiiigAooooAKKKKACiiigAooooAKKKKACvPfjt%2B1J8FP2b5NGsfil4g1Maj4ilnTQNB8OeF9R1zVNR8lVed4bHTbee5kjiVkMkixlI96biu5c%2BhV4N%2B0P8D/j5/wANJ%2BDv2tv2bLLwfrWueH/B2seFNX8KeOdcutLtLywv7mwuxcQXtraXj288U2noCpt3WVJSCUKK1ABpf/BTL9izWLvxPb2nxXv0h8FWsk/jLUrvwXrEFjoIS0iu9l5dy2iwWsrQzRskMjrJIWKorMrKL2n/APBQ/wDZK1HwBrXxFTx/q9vB4f1ay0vVdE1DwNrNrrkV5ebfscC6PNaLqEr3AYGER27eaAxTcFYjy2b9gH4y%2BMf2a/jn8NfGHinwppHin4o/FS38daHc6U1xeWFpeW0OiywQ3IkihkkiN3pRRwoyYHGDuJVaPi79i/8AaV%2BLmr/Ef45fG34S/CjWvFnjWx8KaPp/gKy%2BI2s2Wm6fY6Hcaldw3qa7b6al5DqDXOqTOksVoPJSKNFZiWcgHsviH9vv9mzwv4a8OeI9XvvG3meK0v5NE8P2vwm8SXGuSRWUscV3NJpMWntf28MLzQq8s0CIpmiy37xM%2Bmaz8RPBHhv4e3XxX8T%2BJbbSvDljo76rf6vqrfZYbSySIzPPMZdvlKsYLNvxtAOcYNfGHin9hH9s/WPgX4X8Nay3hfxV470a58RHRfGV/wDHbxNpGr%2BCLW%2BuUktLO11q1sJLzXIYkjhEy3qw/aTbReYCFGPUfjR/wTotfj1%2Bzb4n%2BHHxD%2BOfjW78d%2BMPhfH4Z17xS3jbWho818tpDE2oJoS3y2FuzzQLK3kRRSEPIBIrSM5AOkg/4KUfsZf8K58V/FbWPite6Jo3giysr7xQ/ifwdq%2Bk3NlZXkxhtb37LeWsVxJaSyK6pcxxtC3luQ%2BEYjj/AI3f8FZP2d/hn8ENU%2BMfgPRfFXiqbQfiD4X8L674Y/4QXXbHU7A6zqVrax3T2cmnNdeV5Fw88DeT5d48aW8MhknjB8r1T/gmJ8ZPHfwq8faR4i8DeG9G8Y%2BI9D0fR7DxDqv7RfjPxut3aWusW%2BoTRyf27AfsEZ8likUSzHe%2BGkxknv8A9qH9gz40/GD4g/F/4g%2BBfEPheOTxfB8LbzwlZ6tfXMSvf%2BE/EdzrUsN40dvJ5ENwGt4VljEzrl2MfyKrgHqFh/wUE/Zb1H4m2XwZh8T%2BJo/Fd5oun6xLoF38N9egudO0%2B9adILu/SSyU6dDut5VeS68pYiFEhQum6j4a/wCCmH7FPi3wZ4s%2BIWkfGC4TR/Bfgi68Zaxe6h4S1W0Fx4et0Z5tWsVntUbVLNVQ4nsxPGxZArEugbB0P9kP4ofEP4mfG74g/G9fD2gxfGj4O%2BHfCF1Y%2BE9duNRl0u4tE11Ltlnns7XzYwNViMT7FZikm6OPA3fN37Y37Kn7UOj/ALDHxS%2BJv7TF34AtIfhD%2BxT8QfBHhePwFqF5cNrzXukWxn1G6W5toBYqE0i3CWcbXAVppCZ22oKAPrPw9/wUl/Yy8TaHrHiPT/i1dQWehppU1/JqnhLVbJmtNSu1s7HUIUuLVGubCWdgovoQ9qoDO0qorMPT9E%2BLvw88R/FLX/gvofiH7T4k8LaXp%2Boa/YR2k22zgvmuBa7pinlF3%2ByzHy1cyKoRmVVkjLfJOofsz%2BIPFegeKfjb/wAFIvF/wz8J%2BBbf9nu5%2BHUlx4f8QTLay6beyQyXmq3k17BbpYOTBbCG2QzCAmT/AEiQsuOw/wCCPngP4u2f7I9r8f8A9pDUDf8AxJ%2BL15H4n8V6g9nJbtJCLSCy01fKl%2BeH/iX2lpI0TYKSzTZAYtkA%2BqqKKKACiiigAooooAKKKKACiiigAooooAKKKKACiiigAooooAKKKKACiiigAooooAKKKKACiiigAooooAKKKKACiiigAooooAK8R0j/AIKMfse6ld69Z6n8Urzw83hzw5c%2BINQk8a%2BEdV0GObSbd0jnv7WTUrWBb63R5IlaW2MqAyxjOXXPtN7FczWcsNndCCZ4mWKYx7/LYjhtp64POO9fmJq//BHL9uX4v6t4X1z43fHHQ31vw14P1Cz1DxRqHxW8TeJx4h1v7ZpV9a6idLvoobLSbaS50xfPsLIBRHJtWWQKgUA%2B2X/b/wD2YbX4aN8WNY8QeKtK0ttcg0axs9c%2BGWv2GqanfzIZIYLLTbixS9v2kQM6/Z4ZAyo7AkIxHReA/wBqz4H/ABH1%2By8J%2BHPEOqQ6vf8AhSfxJDpGteFdS0y7TTYbv7JLLLDeW8UkDrP8hhkVZe%2BzbzXk3xO%2BDn7bvxib4e/G3XPBvwq0P4h/Cjx1NrHh/wAM2vjjUr/Rdcs7jSbvTLmO4vn0qGaxmKXskkbpa3AjMQU%2BYJGxV%2BJPwG/bg1/4y%2BHf2mvA%2BjfCu08WX3ww1XwX4x0LUvFepSWGkLcX8N1a39lcJpwk1AxCN1kt5YrQSlxiWLHIB3Gk/wDBRv8AZA8R694F8LeFfiNqus6n8SfBuleLfBunaJ4H1m9nvND1F9lrqMiQWjNa2%2B7HmSTiNbcMpm8oMCdj4a/tufs3fFf4jXPwn8M%2BL9Ws9ft9LudThsvE/gzVtEW/sbeRI57uyl1G1gjv4I3liDy2zSIvmISQGUnyj9hT9hL4sfsw6/8ADjWfHniDw1dnwd%2Byl4R%2BGN%2B%2BkXM8rNq2lvM1zNF5kEe61bemxmKu235o0wK8a%2BGn/BKv9sbxP8UfC/ib9qb4w2eqRaf4A8V%2BF/GniaD4v%2BJNavPEUur2KW39p2umX0Men6EcqWNpaKUXKgTOI1WgD6l8J/8ABRf9kfxrosfirQfHeuf2Hcarpen6f4lvfh/rdrpWoy6lex2VlJaX09mlteQS3M0UYuIJHhBlQs4VgT6X4W%2BLvw88a/EDxT8LvC/iH7XrnguSzj8T2iWkwWxkuoPtEEZlZBG7tCVkKIzMiyRlgokTd8w%2BOPAnxF8K/wDBPbxp8CP%2BChnif4VeCPAWg/DSLQLb4meHfFt2GadI0trXUntLqzgTTZlmFvJDBHcXTGcoiOTtDdr/AMEr/h98WPDf7ImlfFX9oqwS3%2BJ3xYvpfHXxEhW3aL7Pf36xmG02N8yfZbGOys9pyQLXBoA%2BjaKKKACiiigAooooAKKKKACiiigAooooAKKKKACiiigAooooAKKKKACiiigAooooAKKKKACiiigAooooAKKKKACiiigAooooAKKKKACvF/j14/8A2i/%2BGi/AvwI%2BAvjPwV4fTX/BXiXXtX1Pxf4Lu9aJOnXeh28MMMdvqVj5Yb%2B1JWZmZ8%2BWgAXkn2ivCviLrSWX/BSr4Q6LIoxe/BP4hsjZ53R6t4NOPyZj%2BFJtLcuEJVHaPZv7tWX/APhB/wDgoX/0dB8Gf/DD6t/81FH/AAg//BQv/o6D4M/%2BGH1b/wCaivZqKZB4z/wg/wDwUL/6Og%2BDP/hh9W/%2Baij/AIQf/goX/wBHQfBn/wAMPq3/AM1FezUUAeM/8IP/AMFC/wDo6D4M/wDhh9W/%2Baij/hB/%2BChf/R0HwZ/8MPq3/wA1FezUUAeM/wDCD/8ABQv/AKOg%2BDP/AIYfVv8A5qKP%2BEH/AOChf/R0HwZ/8MPq3/zUV7NRQB4z/wAIP/wUL/6Og%2BDP/hh9W/8Amoo/4Qf/AIKF/wDR0HwZ/wDDD6t/81FezUUAeM/8IP8A8FC/%2BjoPgz/4YfVv/moo/wCEH/4KF/8AR0HwZ/8ADD6t/wDNRXs1FAHjP/CD/wDBQv8A6Og%2BDP8A4YfVv/moo/4Qf/goX/0dB8Gf/DD6t/8ANRXs1FAHjP8Awg//AAUL/wCjoPgz/wCGH1b/AOaij/hB/wDgoX/0dB8Gf/DD6t/81FWtf%2BN/7InwptNI0n46fGH4c%2BHNc1DRYNQNt4u8Q2Fpd3EcmR5%2B24dXZGdJAG6ZRhnggZv/AA1//wAE4P8Ao6L4I/8AhbaP/wDHa5p4zB05OM6sU10cop/c5JntYfhviTF0I1qGBrzhJXUo0a0otd1KNGUWtHqm1puWP%2BEH/wCChf8A0dB8Gf8Aww%2Brf/NRR/wg/wDwUL/6Og%2BDP/hh9W/%2Baiq//DX/APwTg/6Oi%2BCP/hbaP/8AHa9O0DRfhZ4r0Ky8U%2BFtJ8P6lpmpWkd1p2o6fBBNBdQSKHjljkQFXRlIZWUkEEEHBq6WJw9dtU5xlbtJP8mznx2TZzlcIzxuFq0lJ2TqU6lNN72TnTgm7a2Tbtra2p5z/wAIP/wUL/6Og%2BDP/hh9W/8Amoo/4Qf/AIKF/wDR0HwZ/wDDD6t/81FeefD7/go1%2Bxf4v8D2fjDxD8PfE%2Bgz6p441rwtomjXPwe1ue81a9064v45FtIodPZ7omHT552WJXMIBjk2SKyjsviF%2B1R%2By14FsvHtpeaJFp%2BseAvCGteIby28WeBNW0mzu7PTF/0ue3upNOcXtvEzRCSWyS6KiaNgj70V9jzTR/4Qf/goX/0dB8Gf/DD6t/8ANRR/wg//AAUL/wCjoPgz/wCGH1b/AOaiqth%2B1Z%2BxhqHxnk/Z%2BhvLf/hKLfxBHoN1H/wg1%2BLCHVX06PUo7FtQa0Fos72kqTJGZQzg4UFgVGz8a/ir8FfhJ%2Bzzrv7Q%2Bj%2BEdG8Uadpdg0mm2%2BhrbSDVbppRBBaxTAFA0lwyQ7idqsxLdDQBQ/4Qf/goX/0dB8Gf/DD6t/8ANRR/wg//AAUL/wCjoPgz/wCGH1b/AOain/s4fEC2%2BLl54y8D/FH4FeG/CvjDwH4gh0zX9K0fUV1WxkWextr23uba6ktLZ5Y3iuVU74I2WWKVcMoV38k%2BJn7aPiH4DeGfifL8cv2Q/BGneIPAHwsHjuy03QvHQvrO6sjPPAILy6k0uBrCbfA3Kw3EbKshR38phQB6x/wg/wDwUL/6Og%2BDP/hh9W/%2Baij/AIQf/goX/wBHQfBn/wAMPq3/AM1FeS/FD9uXw58L/gN8P/jFfeBf2fL1fiB8RH8M2uuWvxrT/hE7GJdN1G%2B%2B1S62dH%2B8W09oPKFtjzJkHmdRUX7T/wC354T/AGZPE3hPwfrXwF%2BHuoajr/g%2Bx1s2/wDwnMduddnuLlbZtM8NbtOJ1%2B8ViGERFoWSe1Y7fOIQA9f/AOEH/wCChf8A0dB8Gf8Aww%2Brf/NRR/wg/wDwUL/6Og%2BDP/hh9W/%2BaiuJ039qzTtV%2BOMHge2/Zn0BfBWrfEPU/AXh7xlJrKC5uvENjp9zdzJNYizIgsi9leWy3AnkkM0IBgCOr0vw2%2BNfx28cfEX4ofCG9/Yz%2BGCeIPh5o2jTWsmj/Eqe60/UNRv/AD5P7PmuJtDge1eG2jguHZYpvkvIAFJJAAO1/wCEH/4KF/8AR0HwZ/8ADD6t/wDNRR/wg/8AwUL/AOjoPgz/AOGH1b/5qK8p1v8Ab8%2BF2kfspfBb4/X/AMJfh9oet/Gjw7ZatYaT438a2%2Bj6LosUmnpe3DXerPZuRHH5kcCMtsXllnhHlorO0feeIvjHrnhP4yfBj4fav%2Bzd4In0H4rLJZ3nifSvFi3B0vVE0e/1Qw28H9nqL618uwZRcmWAnzkYQ9QADa/4Qf8A4KF/9HQfBn/ww%2Brf/NRR/wAIP/wUL/6Og%2BDP/hh9W/8AmorlG/aPs7H9sQfsjaj8GPhpe6jf6XqF/pcfhrxwt/qthbwRJJDcaxp506M6Xbz71jSYS3AMjooDbsjn/hx%2B1xrPxT8L/Fi08Cfs4fCvxH4s%2BF0diZI/CXxLGoeHL2aZpvPsX1YaSj297ax27yT232WRkWa15JmwgB6X/wAIP/wUL/6Og%2BDP/hh9W/8Amoo/4Qf/AIKF/wDR0HwZ/wDDD6t/81FcX44/acu9A/Zo%2BEX7TvhX9lrwzqWkfES%2B8HxeI7S98RLay6BDr97p1lE8G2xk%2B3vFLqKko32cMsTHepIFan7R/wAWviL8DPin4E8LeHv2W/h54h8P%2BPPHWmeGdOvZfGs1pqwknSWe8nWwGjywyJbWdtd3JBu1LpbMPkJFAHQf8IP/AMFC/wDo6D4M/wDhh9W/%2Baij/hB/%2BChf/R0HwZ/8MPq3/wA1FcV8Ff2q/C37RXxX8Z%2BAfhD8NvhLd23hiXWLKytb74ixR%2BILm8sLp7JpbnSYdPlay0%2BS6ilRLoyyOUCSCBhIork7z9um48AeHPilqXxx/Zh%2BHOh3Pw%2B8aaJ4R0y50j4g/atK1TWNQt7e5eOe9u9Ks/sMFrDeW0s8/lyhU87Cs8XluAew/wDCD/8ABQv/AKOg%2BDP/AIYfVv8A5qKoeB/HH7Vng79qzw58Efjd8R/h74m0bxN8PfEOuQzeFfh5faLdWl1pt9oluis9xq98ksbpqkpKhEYNEhDYyD0Hwu13Svib%2Bz3D8WpPDvgOC9vNNurq1vPh34lXW9MIRpBFLa6iLW2M4KorE%2BUm1iyfMF3NneOP%2BUhfwv8A%2ByM%2BPP8A07eEKAPZqKKKACiiigAooooAK%2BcfhN4q/bv%2BOuj69478L/G/4SaBpdv8QvFWh6XpV/8AB/VL%2B4itdL16/wBMhaW4TxFAssjx2auzLFGu5yAoAFfR1eM/sH/8kQ1z/ss3xH/9TXW6AD/hB/8AgoX/ANHQfBn/AMMPq3/zUUf8IP8A8FC/%2BjoPgz/4YfVv/mor2aigDxn/AIQf/goX/wBHQfBn/wAMPq3/AM1FH/CD/wDBQv8A6Og%2BDP8A4YfVv/mor2aigDxn/hB/%2BChf/R0HwZ/8MPq3/wA1FH/CD/8ABQv/AKOg%2BDP/AIYfVv8A5qK9mooA8Z/4Qf8A4KF/9HQfBn/ww%2Brf/NRR/wAIP/wUL/6Og%2BDP/hh9W/8Amor2aigDxn/hB/8AgoX/ANHQfBn/AMMPq3/zUUf8IP8A8FC/%2BjoPgz/4YfVv/mor2aigDxn/AIQf/goX/wBHQfBn/wAMPq3/AM1FH/CD/wDBQv8A6Og%2BDP8A4YfVv/mor2aigDxn/hB/%2BChf/R0HwZ/8MPq3/wA1FH/CD/8ABQv/AKOg%2BDP/AIYfVv8A5qK9mooA8Z/4Qf8A4KF/9HQfBn/ww%2Brf/NRR/wAIP/wUL/6Og%2BDP/hh9W/8Amor2aigDxn/hB/8AgoX/ANHQfBn/AMMPq3/zUUf8IP8A8FC/%2BjoPgz/4YfVv/mor2aigDxn/AIQf/goX/wBHQfBn/wAMPq3/AM1FH/CD/wDBQv8A6Og%2BDP8A4YfVv/mor2aigDxn/hB/%2BChf/R0HwZ/8MPq3/wA1FH/CD/8ABQv/AKOg%2BDP/AIYfVv8A5qK9mooA8Z/4Qf8A4KF/9HQfBn/ww%2Brf/NRR/wAIP/wUL/6Og%2BDP/hh9W/8Amor2aigDxn/hB/8AgoX/ANHQfBn/AMMPq3/zUUf8IP8A8FC/%2BjoPgz/4YfVv/morqfG37VX7L/w01B9J%2BI37SHgLQLuP79rrXjCytZF%2BqyyqR%2BVcVq3/AAUy/wCCfWi5%2B2ftj/D18dfsniaC4/8ARTNmuWpjsDSdp1Yr1lFf%2B3HFVzLLaDaqV4Ra7zgvzlf8C5/wg/8AwUL/AOjoPgz/AOGH1b/5qKP%2BEH/4KF/9HQfBn/ww%2Brf/ADUVyd1/wV%2B/4Jr2kphl/a18OkjvFb3Tj81hIqjqn/BZ7/gmRpFv9pu/2rdLdfS10XUZ2/75jtmP6VzvOcoW%2BIp/%2BBx/zOV8QZDHfF0v/BkP/kjuv%2BEH/wCChf8A0dB8Gf8Aww%2Brf/NRR/wg/wDwUL/6Og%2BDP/hh9W/%2BaivMP%2BH2X7BV2PM8OeJ/GGsRH7k%2BmfD3VGRvoWgWsnUf%2BC7X7CukuU1CLx/Dt6mXwLcp/wChYrJ5/kkVd4iH3/8AACnn%2BS1pWpYiMn/dvL/0mMj2X/hB/wDgoX/0dB8Gf/DD6t/81FH/AAg//BQv/o6D4M/%2BGH1b/wCaivArz/g4U/4J2WZKtq3jN2HVF8KuD/484qg//Bxd/wAE91YqLTx%2BwHceGosH87isnxLw%2Bt8VD/wL/gHfDEwqK8Izl6Uqz/Kgz6M/4Qf/AIKF/wDR0HwZ/wDDD6t/81FH/CD/APBQv/o6D4M/%2BGH1b/5qK%2Bbp/wDg40/YAjwLbQfiLcMeiQ%2BGrfJPp810Kbff8HB37OM9qJ/CP7L/AMatULD5H/4Ra1jjb/gS3Tn9KX%2Bs/D/TExfpd/lFmqlWk0o0arvtahiXf0/2Y%2Bk/%2BEH/AOChf/R0HwZ/8MPq3/zUUf8ACD/8FC/%2BjoPgz/4YfVv/AJqK%2BZPDv/Beex8RXZhsv%2BCfnxnuE3YU6doouHI/3QBg%2B2a6LXv%2BCwPxeuLRZvhn/wAEof2hdYkZc/8AE08IT2Uef9%2BOKfj3xTjxJks480at/SFR/lTZFarVw9ZUqtCtGb2jKhWjJ%2BilSj%2BZ7z/wg/8AwUL/AOjoPgz/AOGH1b/5qKt/srfEb40%2BMNY%2BKHgT46a/4X1bVPAPxCi0Oz1Xwn4audJt7q1l0HR9TVnt7i9vGWRZNRlQsJdpWNDtU5z8vad/wUn/AOCqfjiYp4I/4JA63YBmxH/wkPiN4MfUzwQD%2BVeuf8EyvFfxy8bv8c/FH7SXwxs/BvjS7%2BM0R1nw1YajHdxWYXwl4cWHEsburloFic4Y4LkcEYHVgs1wuPqOFFT0V7uE4r75Ja%2BRpbExny1aFSn/AI4cv5yb/BH1BRRRXpFBRRRQAUUUUAFFFFABRRRQAUUUUAFFFFABRRRQAUUUUAFFFFAGP8QPiJ8P/hN4Ov8A4ifFPx1o3hnw/pcQk1PXfEGpxWVnaIWChpZpmVIwWZRliBkgd6r3vxZ%2BFem/DRfjRqPxL8P2/g5tKj1NfFk%2BswJphsZEV0uhdF/K8lkZWEm7aQwIODVX43eIvD3hL4T674i8U6Fqmp2VrZFpLLRfDV3rF1I5YCPyrOzhmnmYOVOI42K43cBSR88/slfHfTPhP/wS6%2BH134l%2BAfxS1TWfAHwW0VNV8C/8Kl1qLVrm/sLK3t3soLa6tIzLP9pTCAcEDzQfLUyAA%2BlPhz8T/hp8YvCVv4%2B%2BEfxD0LxToV2zraa14c1aG%2BtJijFXCTQsyMVYFTg8EEGvnn9oXWf7L/4Kz/szWO/H9o/DH4mW%2BPXEnhiXH/kL9K6P/gndYXV78LvFPxT8T2er2nivx/46uPEPjTT9S8FaroUFhqD2dnbpaWkGqWttPPBDa21pEbrywtxNHPLhGd408Q/ajm%2BKnhz/AILa/sl3fjnxp4fv9B1PRfiVb%2BHLDSvDU9ldWEZ0/SiyXVxJezJeMziLayQ24Xa2VfcNvLjJ%2Bzoc3nH8ZRX6nu8OYb63mnsu9Os//AaFaX/tp93UUUV1HhBRRRQAUUUUAFFFFABRRRQAUUUUAFFFFAHmepfsyfs2/GjR9B8U/GL9nvwP4s1O38P2trBqPiXwnZ388cCqXWJZJ42YIGd2Cg4BdjjJNUv%2BGB/2Ff8Aoyz4S/8AhudM/wDjFcn8Xv8AgpB%2Bxf8AsfS%2BHPhp%2B0X8Zf8AhHdbvvClnqdrZf8ACO6jd77V98Syb7W3kQZeGUbSwb5c4wQTyH/D83/gll/0dF/5ZOuf/IVeLiMXw7TryjXnSU09eb2d7%2Bd1e/qaLxDxGVL6pHOJ0lT05FiakFHrZRVeKjvsorfbU9b/AOGB/wBhX/oyz4S/%2BG50z/4xXp2gaBoXhTQrLwt4W0W003TNNtI7XTtO0%2B2WGC1gjUJHFHGgCoiqAqqoAAAAGBXyt/w/N/4JZf8AR0X/AJZOuf8AyFX094B8deFfih4E0X4l%2BBdU%2B3aJ4i0i21PR73yHi%2B0WtxEssUmyRVdNyOp2soYZwQDxXRgcRk9aclg5U20teTlvbz5UtL9xS4uq8Sfup5jLE8mtnXnV5b6XtKrUtfa6SvtfoeE/DD9hfxX4A8eeFNa1P4z6bqGg%2BB/ih4q8X%2BGtLh8ISQXYXXf7Wee0uLk3rpKYpdVYpKkMX7uEIyFmMg8j1r/gjDLr3inx74kvPjt4diuPGXgLx/4X/tq1%2BF6JrdzH4mkVxcarqJvi%2BqPZbRHCgW3Tyxt2pgMPdrD9vz4R6vp1jNpPhTxHNfXWi%2BLdSu9Jl%2BwW8ulp4cvVsNRju5J7tIIGF26QIzS%2BWxJYusau68J4N/4KfeB/jtN8ONR%2BAkFnLY678Z9R8DeN4L%2B%2BsdSl082/g3V/EKG2udKvrizldjaWB3pPMgSaaNgkqnyvSIOuk/YYD%2BIdV18fFDB1P466T8RzENE/1f2LSNP037Bnz/m3/YPM87A2%2Bbt8ttu5u8%2BNfwO1D9oD9nnXfgl4/wDGMVvf61YNGniDQ9LMAsrpJRNa3UUEssuWhlSF9rOyu0ZzgNgfPHi3/gqtK/wQ8KeNfhF8Kdf8R3uqQfD2TxH4pl8PwW%2BjaK3iS705UguYBqTXMdw1re%2BaqQG6igaaDzZmUkt9IfGH48eH/hJ8AvHnx9utG1K5sfAXh/WNUvrK40%2Ba0luBp0MssqxidFLK3ksElUNG4IZGZSCQDnfgL%2Bz/APFD4U6v4i8d%2BNfi1ofiHxV448Wxat401Gy8HzWFpJawaZFYW9lY27X0zWmz7PBKZJZbkszXA2qJU8ni/wBnH9kv9qf4H6L44v8AxZ%2B0x8P/ABZ4x8a3Z1G78Z3PwivYJ5r4OBCLmM67IstnBABbw2kJtxGoDBy7SM%2B3%2By18bPj94h%2BKnib4DftKjwjc%2BItG8FeHfFdrqXgvSrmytBa6rJqUBsmjubm4d5befS5szh0WVJoyIoyGWua8ZftE/tUfDL48a/8ACO%2BufA3jSWT4X%2BIvF2j6V4X8KX9ve%2BHjaTQx6ZDfs19OL0XhkmjQxpauz2U3lo6q5iANvwN%2By1%2B0N8MPDvi3V/BHx88DDxt4/wDHz%2BJ/Furar8K7ibRyx0u101YbPTotXiltz5Vlbs0kl1Ozu05YYkUR%2Bca9/wAEoNTX4XJ8FvAn7RMVj4d1n4PWXw58bR6z4MW%2BuZ9Nt7i9nNzpTx3UEekXLHULgbvLuI0EVntjBtkJqaf%2B2/8AtNX/AOyHf/EPQde0TXviZp/ijwtZeI/Ddp%2Bzx4ptLvwpZ6jeWcd5LcaBJfvqV95NvLdTxyxNEkggJUMEaux%2BIX7VHxq0v9nb4ZfHz4SfFL4d%2BK9P1L4oeG/DPjm8k8B6lY/bYtT8VWGgzxWlrLqJl0u6tjdTiRLo3DLNbFGiUlgoBuaD%2Bw5rej/Hyz8dzfGKCbwHpHxH1Lx9onggeGil5Br19YXNpOZNQ%2B0lZbTde3lysH2ZXWaZSZmSNUrrfhj%2Bz343%2BDvgfx8PBPxL0qfxx478bap4lufFGueGJbi0Se4kWK0iks4ryJ5kttPgsrMYuIy4tQ%2BU3bByH7Sn7Rvxr%2BBn7Q/w%2B8LaRqOiaj4b8beKdO0c6FP8OdVSSCOeQxzXL%2BIhd/2bbyJy8dnLAJrgoIoizyKRmXH7SH7VXh68/aY8OXukeE/Ees/DDwqmufDTT/Dvhm%2BSS8NxY31xa2V3GbuV7yXfbRIWgEG8yMqopwaAMr4c/wDBPL4t/D74C/BXwMPj94Mv/HPwHtTpvgvxfdfCy4NhNpjaX/ZskNzp51cyNM0WHM8V1EN6KPL2F0e6n7BXxh8F6d%2Bz74S%2BDP7RPhnTfD/wHEckVr4m%2BHE%2BpXetT/2Xe6XKfOt9VtI7WM219KUiWFxFIiHLIPKK/Df9tXxbdfADUtb1fxloPjL4mzeIrfw9oXg6z%2BG%2Br%2BDriDWbq2SW3srzT9Vubi7jRVMt3Jc4VfscUkqowiLNy%2Bs/tlftax/8E7vBX7c2l6x8NIr%2B6%2BHllq2r%2BDLjwnqEsnirXLkIINI0uRdRU2L3Mzpbw%2BYl43mTplWCncAeteJP2bvjr47%2BOujfFzxt8e/DZsfBd1rF14B0vRvh9La3NtNe2k1pGNQupNSlF/DFFMSYoorUSyRxSMQY1Ay9M/ZT/aFjn%2BJnxH1v9oXwfcfEL4heF9J8PQapZ/DO6t9D02ysZL11dtO/tdp7m4cajdK0pvUAC24CARMsnOj9uzUNd/bf179nq18f%2BHPDGg%2BD/Fum%2BGNQtta8A6tfT67qd3pVrqSxx6vDPFp%2BlsyXsMUMNws0txJDNsUAoTyH7Kn7dn7UX7TPxP1f4Vww%2BDdJ1C88Havq2knUvAerWsGh3Vpq8NikK3E16IvFVuUld5LzTWhhieKJHZTdxbQDrvEf7D37TWr/ALE/w7/ZL0z9qDwJbah4F1Hw1NP4on%2BEd7LDqEGg39je2Ea2Y11GhdnsIVmczyCRWk2JCSpX1nVPgDrPi748%2BAPjn4%2B8c2t9J4D8LanZ22jWOitb282sXwtY5dUUvPI0WyCG4gjhJcql9Nukc4r538R/8FFfi/4J%2BHcmja/f%2BE9Q8Rah8ep/ht4X8feH/AurXuj6oLfRX1S7vodGtbme9unhltr/AEw20Fy5e7tCfMRN4TW%2BNX/BQnxx4R%2BEnw81H4F634N8fa9rWp6Bc%2BNPEEWh3llplhol5rtvpEky2bXLT2t3LcTSQw280zFHtLxn3m1eJwDr/hH%2BwDJ8KfjZpHje0%2BJemP4R8K%2BK/FXiTwn4asfCP2bUIdQ8QTzz3wu9Q%2B0ut1bq91ceXEtvCQPI3vKYFJluf2ArW6/Zth%2BEd18RLS78W23xOPxEj8Z6j4a86CXxF/bTass0tj9oBe3DMLYQidWWBVVJUZEdZ/HfxV/ao8K/tv8Aw/8Agfonjv4f6p4W8Xw61rGr6P8A8IFfRarpGh2FtHGZzf8A9rNDJK2oXmnxAG0QNHLMQMx5Lv2bPit%2B1J4l/am%2BI/wX%2BLnjjwB4l8O%2BA9B0YTaz4S8B32izLrl8J7h7JhcarfK4hslspmwEJ/tCLHCnIB03wY%2BAt9%2Bz58CvFPh3XfGEGu6xr2ra54i17UbDSP7PtHvb%2BWW4lW2tfNmNvCC2ArSyOTud3dnYmp44/wCUhfwv/wCyM%2BPP/Tt4Qr1Lxz/yJOsf9gq4/wDRbV5b44/5SF/C/wD7Iz48/wDTt4QoA9mooooAKKK534r/ABX8A/BHwFe/Ez4m642n6PYPBHNNFZzXMsks0yQQQRQQI8s80s0scUcUaNJJJIiIrMwBAOiorzuy/at%2BAl98C7r9pFPHTQ%2BELGSeG%2BvbzSLu3uba5huTaSWkllLEt0l0LlTB9laITGXEYQuQpypf22/2f08AxfEa1u/GF7ZSavNpc2naZ8MNfu9VsruJBJJFdabDYte2hWMo5M8KDZJG2cSIWAPWa8Z/YP8A%2BSIa5/2Wb4j/APqa63XqPgXxx4R%2BJvgrSPiP8P8AxDa6voWv6ZBqOjarYyh4by1mjWSKZGHVWRlYH0NeXfsH/wDJENc/7LN8R/8A1NdboA9mooooAKKKKACiiigAooooAKKg1PVNM0Wwl1XWdRgtLW3QvPc3MyxxxqOpZmIAHua%2Bdfip/wAFZ/2E/hhrI8JWPxlTxlr7uUg8P/D2xl1q5mcdVBtg0QYdwzg1zYnGYTBx5q9RRXm0vuW7%2BSZyYvMMDgI82Jqxgn/M0r%2Bi3fyTPpGivkgf8FJv2gvHPHwH/wCCW3xm1YN/qZvGsdr4aik9w1w8nynsaG%2BOn/BYnxipTwz%2Bwp8N/BjSDCSeL/iaNRWInuwsVBYDuBXH/bODl/DU5/4ac3%2BLjFfief8A6wYCX8KNSf8AhpVGvvcYr8T63qvqmraVodhJqmtanb2drCu6W5upljjQepZiAPxr5NH7J3/BTb4xHzfj3/wUPs/B9nJ/r/D/AMHvCCQYz/cv7o/aFx0%2B6fWuT%2BI3/BPb/gl18FZofE37bnx31bxbqK/PBefGT4rzSTyt6pCssIk78bG%2BlZ1Mxx3I5xocke9ScYL7lzP8UdODnxJm%2BIjh8ty%2Bc5y2Un7z9KdKNao/u9bbnunxP/4KYfsC/B5JT44/ax8GLLAD5tppOrLqNwhHYxWnmuD7bc15wv8AwVeHxHbZ%2Byr%2BxH8ZPiPC3MWtL4a/snSpR223V0Rz7FBxXEeEP24v%2BCK/wL1BdI/Zv%2BH%2BhazrsGPIs/hv8LJrq%2Bmb%2BHbcfZ1DtnoTL%2BNdun7a3/BQD4wtu/Zw/wCCbGsaRpz8x678X/EcGjMB2zYpum565DHH415rzWtWdliY%2BlGnKq//AAJ3S/A%2B2h4T%2BK9WCqZjCGApv7VbkoaeTxdWEn/25Ql5dh4/aO/4K3eMz5nhP/gnV4Q8KRH7jeMPitb3bMPUrZoCp9j0pf8AhIP%2BC4Oq/NYfD/8AZo0oH%2BHU9V1ycj/vyKB4V/4LWePOda%2BK3wF8BQP9weHtD1HVLmMf7X2oiMt9OKB%2Bwr%2B3f4tPm/FT/grD4wk3cmDwd4E07RlT2DIXJ%2Bp5otjanwrEy9XSpr8m/wAB/wDEMctof8jDiqjF9VSnVrP5ewwcYf8Ak/zYfY/%2BC6D/AL9tY/ZWRhyIEg8RlG9iTyKxvGXxS/4LEeCbHyfH%2BrfsneGYpRg6/qOvaxDBAvdgkzAsfTnGevFbR/4JO2Ovjb8TP2/P2kPEkLf6/T7n4mGC0lHoYooQfyatbwj/AMEbv%2BCc/hS9/te7/Z5h1/UGIM1/4p1u91F5j6ss8zRn8FFH1LOanwc8f8WIv%2BEKT/NB/qZ4bYTWvxDja3lRoON/%2B3sTOKXqoP0Pmrxd%2B0LrSXbXXxu/4OAPCel3Yzt0n4XeDLG4tbc9x50XmvL/AMCAIxXH337WXwXuJv7Lh/4Lu/FbXJG/5cfDfwrmE7/7si2mB%2BdfpV4K/Zi/Zt%2BG9uLT4e/s/eCdDjA%2B7pPha0t8%2B52RjJ9zXZ2en2GnQi30%2ByhgjHRIYwo/IUf2Dj56yqxXzry/F1o/kvQP7L8GqP8AzB5jWfeeOhTv6qnSnb0TPyc/4SPw34v%2Bfw/8av8AgpJ45kb7svhC2eztW9yGRdo9%2B1I/7PXxG8f/AOi6h%2Bxh%2B2N8QdNf7%2BkfFD44Qadbz/8AXRdqsP8Avqv1qoo/1XjP%2BJWv6RX/ALdUnf5oObwro/weGoT/AOv%2BNxtW/rGM6UX%2BR%2BaPgb9kz4v6Jp66T8P/APgg18GtAj/5Z3PxD%2BIlj4gcehZmjkkP0zXbaT%2Bxp/wUI1DDab8Av2MPAcB%2B4NH%2BH9zd3Mf13RCM/hX3xRXVT4cwkFZ1JfL2cf8A0mkvzO2lxPkOCSWA4dy2lba%2BGlVa%2BdavL8mfFFr/AME9f29tciEPiD9vPwX4etz9%2Bw8I/ATSMfRZZjuX64q7pn/BJLxVeXH2vxt/wUQ%2BMzSH/WN4QvbPQt3t%2B4hbA9q%2ByqK6FkGWfajKXrOb/wDbkdS8R%2BJaP%2B6ww1Dt7LBYODXz%2BrTl%2BLZ8lj/gi9%2Bx7rh/4u1r/wAS/H4P318Y/Ei/mD/XyXirr/Dv/BJ//gnN4XgS30z9kXwjKqdDqNtJeMfq07uT%2BJr6ForaGS5RTd1h4X7uKb%2B%2BXM/xM8T4meImLhyVM3xHL/LGrOEflGk6UV8oo8l039gb9hrSFA0/9jf4WoV6OfAOns3/AH0YSf1re0r9lr9mPQWDaH%2Bzn4DsiOhtPCFlHj/vmIV3lFdUcFg4fDSivSMf/kTwq3EvEuJ/jY6vL/FWrP8AOszO0Twj4T8NLt8OeGNO08Yxiyso4v8A0ECtGiiuhJRVkjx6lSpVlzTk2%2B7bb%2B9tv8QooopkBXjP7L//ACW/9o7/ALLNY/8AqFeF69mrxn9l/wD5Lf8AtHf9lmsf/UK8L0AezUUUUAFFFFABRRRQAUUUUAFFFFABRRRQAUUUUAFFFFABRRRQAUUUUAFFFFABXwZ/wUs1X%2Bwv%2BCrH7EGqbtu7U/GNrn/ruNEix/49X3nX51/8FjL2XR/%2BChP7EmvJwlp491H7Q392J9T8ORsf/H68zOJcmWzl25X/AOT0z7jw3oLE8aYai/tqvH78Li/8kfopRRRXpnw4UUUUAFFFFABRRRQAUUUUAFFFFABRRRQBleBv%2BRJ0f/sF2/8A6LWtWsoeDNDTKwNfQpkkRW%2BrXMaL7KqyBVHsABS/8IfpP/P3qv8A4PLv/wCO0AalFZf/AAh%2Bk/8AP3qv/g8u/wD47R/wh%2Bk/8/eq/wDg8u//AI7QB4f4g/4Jp/s%2BeJfEfxm8S6hq/iYS/G3Traz1y3TUYfJ0QRKS0mmoYSIGmnIuZhL5qSzKpZSvyF/gr/gnd8OfC3i6P4heIPjF4%2B8U%2BID8TpPHd5rHiC90/wAy71NvCs/hfy2S1soYktxYTlljiSPEyI2dm6Nvbf8AhD9J/wCfvVf/AAeXf/x2j/hD9J/5%2B9V/8Hl3/wDHaAPnL/h1J8GLPwvoHgHw58Z/iRpHh3SLHwhDqmg6dqeniDxBN4aa1OmXd4z2LSibbZWyS/Z3gjlSJQyfKuPoHWPh1pHi3wPrvw6%2BIV9c%2BI9J8RQ31tqVrqkcKhrK6Dq9mPIjjBiWNzGpbMhUDe7tljc/4Q/Sf%2BfvVf8AweXf/wAdo/4Q/Sf%2BfvVf/B5d/wDx2gDzP4Hfse6X8C5NS1nTvjn478Qa/qkOi2N14o8TT6bPfHSNKkle00keXZRxfZh9ouwzmM3LG8mcz%2BYVkXO%2BEv7E1x8HvHfj/wAf6D%2B1X8S766%2BIuoXt/rMerQeH5Tb3Uy%2BXBJDOukrcbbSIJFbQyyyQxogDRvzn13/hD9J/5%2B9V/wDB5d//AB2j/hD9J/5%2B9V/8Hl3/APHaAPKvDn7HOoeF18T%2BI9P/AGqviU/jbxa2nR6r8RZ4tBbUxZ2PnfZrKOD%2Byv7PSBTc3LY%2Byby1w7F87SuF42/4J3eGPFXwJ0X4C6B%2B0f8AEnw1Z6b46j8ZanrmjNos2oa7rketR64l5dtfaZcRAjUokn8uCOGPA8rZ5QEY9y/4Q/Sf%2BfvVf/B5d/8Ax2j/AIQ/Sf8An71X/wAHl3/8doA828dfslt8UPFujax8R/2iPH%2BsaBo2saPrC%2BB5/wCyIdMu9S0yWG4tbuZoNPS7LC7t4boxJcLCZYx%2B7CfJVLwt%2Bxxq/hL40/EX436f%2B1p8TJL/AOI2m/Y7rTZrbw99k0YR%2BYLOWy26Ssu%2B1WV1j%2B0STq4OZ1nYBq9W/wCEP0n/AJ%2B9V/8AB5d//HaP%2BEP0n/n71X/weXf/AMdoA8j0n/gn1%2Bzzq9lrg/aL0GH416h4i1i11LVNV%2BLnh/SdSYzWts9taiK2hsobSARRSzKpigRj9olLMxdieL0T/glJ8JfAPhn4U%2BDfgn8b/HngLS/g7plzB4U07wzYeHXtpby4XbLqtxBeaTPE9%2BUMiC4VEZVuJ9oHnSFvpD/hD9J/5%2B9V/wDB5d//AB2j/hD9J/5%2B9V/8Hl3/APHaAPK/FX7D3w78W/GGX4q3nj/xXb2WoeKtK8UeIPBdpcWa6TrWu6bFbRWOpXGbU3QliWysfkiuI4WNlAXjbad3JaH/AMEyPAPhnwvc%2BE/Dn7RvxVsILTwDqPgvwJcWWr6dFceBtFvpraS4g0uVbAPvIsrREnuzczRpboEdSWLfQP8Awh%2Bk/wDP3qv/AIPLv/47R/wh%2Bk/8/eq/%2BDy7/wDjtAHjeg/sF%2BHfD/wW8LfByz%2BPPjcSeANch1P4d%2BKINO8P2t/4XeOylsBFaxW2lR2TRG1uLuFhPbSkrdy5b7mzB8cf8EkP2FPid8KtL%2BGnxM%2BCGh%2BJL3TLu3uT438QeHtNvdeunTWG1icSXc1q37u5vJblpokVIyt5cKixh%2BPoL/hD9J/5%2B9V/8Hl3/wDHaP8AhD9J/wCfvVf/AAeXf/x2gDntB%2BA/gvw/8c9W/aAtri9k1jVPCWneG4LSV4/smm2FnPdTqltGqAxmWS6JlJZtwggA2iMCpPg78EPCfwVHimbw5qGoXt34x8ZX3iXXb/VJUeaa7uSihMoiDyoYIre2iBBZYbaIMzsC7bv/AAh%2Bk/8AP3qv/g8u/wD47R/wh%2Bk/8/eq/wDg8u//AI7QAnjn/kSdY/7Bdx/6LavLvHH/ACkL%2BF//AGRnx5/6dvCFeonwZob4Wdr6ZMgmK41a5kRvZlaQqw9iCK8u8cf8pC/hf/2Rnx5/6dvCFAHs1FFFABXkH7a/w38ffEP4T6RffDLwy2u6x4T8f%2BHfE8Ph1LuGB9Wi0/U7e4nto5J3SJZjCkhi810jMqxh3RSXX1%2BigD5P8K/Anx34n/Z2%2BKHh74yfs/eM7a78d%2BN7zxxp%2BgeHNf0ZdS0u4S/gk063hna9%2BzLqURsLW9JZzaCWTZ50oDZ4Xw98N/2%2BPgT8E/H2sfDP4ZfEDxB4y%2BN3xeGqaxqOpa/4Ym8QeDtGXRNO0x76RDdWmlz37LpYMMFsxt4Tcw7xKtu6S/dVFAHnfwt%2BFVl4b/Zg8N/Bn4a2viX4ZWul%2BE7LS9GtxLp93qugxQwpHHGzyfbbSaZFQKznz0Y5OWzurj/%2BCdOk3%2Bg/s3X2iar4nvtbubP4t/EOG41jU44Eub518Z60DNKtvFFCHcjcRHGiZJ2qowB7pXjP7B//ACRDXP8Ass3xH/8AU11ugD2aiiigAooooAKK8L/aS/4KNfsq/sx6svgrxX44l1/xjO/l2PgLwZaHU9ZuZT0jFvEf3THt5rID2JrzQ/GL/grB%2B0yPK%2BDf7PPhj4HeHp/ueIvibf8A9o6w0Z/5aRafANsMg/55z5HB5rza2a4SnUdKF6k1vGC5mvVr3Y/9vSXoeRXzvA0qro071ai3jTTm1/ia92P/AG9Neh9E/Hj9o/4G/sxeCpPiD8efibpXhrS0yIpdQnxJcsBkpDEuZJ3x/BGrN7V8zx/H/wDb3/b3kFp%2ByX4Jl%2BC/w1uD83xS8eaYsus6nD/f07TWOEVhyJZThlYFWVhiu4%2BA/wDwTF%2BEHgDxrH8cP2gfFOq/GP4mHDP4x8dkTR2bA5C2VmSYbRFPKgBmT%2BFgOK7H9ov/AIKBfsi/ssO2mfFz4z6ZDrWQsHhjSib7VJnP3UFrAGkUseAXCrnvXHXliatP2mNqKhS/lUkpP/FPp/hpq/8AeOrKuHuLeMMbHCYajUvLalQUp1Wv784J8q78nKl1qo8w03/gjx%2Bz54qv4tf/AGpfil8SfjNqMbiQf8J74yuGs4n/AOmVtbmNUX/YJYV794E%2BE37PX7M3hKdfh58P/CfgbRraLdeTafp9vYQhR/FLIAufdnJPqa%2BcF%2BM3/BS/9sthF%2Bz78KLf4CeCLg/L42%2BJNkt34guYj/Hb6XkpAcHpOSCOVftWnon/AASG%2BCPivVYfFf7XHxX8ffGzWIn8xP8AhOPEky6dBJ6wWVuyJGvX5GLryaxw3sYy5suwl7/bn7ifzkpVZfckz9BwvhtwjwtPnzvHUqFbrSw8freI9J1FP2FOXdSxNRrrFbGp8R/%2BCuf7HvhjX38CfCbW9b%2BLPikZEPhz4VaJLrEsh6D99HiDGepEhI9K5%2BPxb/wVz/ackWbwf4J8G/s8%2BG5TmO%2B8TMviDxA6/wALLbLi2jyOscuGXpk19P8Aw5%2BFPwx%2BD/h9PCfwo%2BHmieGtMTG2w0LS4rSLPqViUAn3PNb9dv1HH4n/AHmu0v5aa5F85O838uU7/wDWnhPJtMkyqM5/8/cZJYiXrGhFU8NF/wCJVreZ8kv/AME4v2kvHaGL47f8FS/i5q0UvF1B4Mt7Pw2kq91xbq%2BAemB2rsfhD/wSu/YP%2BDd4dc0v9n/S9e1mRt9zrvjRn1m7mk7yFrsuqN7oq19C0VpTybLKc1N01KS6ybm//J3K3ySOTF%2BJPG%2BLw0sNHGyo0pbwoRp4aL8msPTo8y8pSkvIpaF4c8PeF7BdK8M6DZadap9y2sLVIY1%2BioABV2iivSSSVkfEznOpNym22922236t3b%2B8KKKKZIUUUUAFFFFABRRRQAUUUUAFFFFABRRRQAUUUUAFFFFABRRRQAV4z%2By//wAlv/aO/wCyzWP/AKhXhevZq8Z/Zf8A%2BS3/ALR3/ZZrH/1CvC9AHs1FFFABRRRQAUUUUAFFFFABRRRQAUUUUAFFFFABRRRQAUUUUAFFFFABRXPfFfx7ffDD4ean48034ea94rn02FZE8PeGRam%2BvMuqlYvtc8EIIDFiZJUUKrHPGDyEf7W/wt/4ZD0v9tK7s9Xt/CuseC7DxJY2D2aPqMkV7BFLbWohjdla5kaaKIRq5UyOFDEfNQB6hX5y/wDBcr/iX/HX4A%2BL%2Bn/CPR6rqO7%2B7t8ReEEz/wCRK%2B3fgH8f9G%2BPWm68I/A2v%2BFdc8Ka%2BdG8U%2BFfFC2n27S7z7Nb3aI7WdxcW8iyW11bTK8U0ilZgCQwZV%2BJv%2BC%2BdtN/YGl61apmfSPhN4hvofqni3wICf8Avlmrys9/5E2IfaDf3Wf6H3/hS1/xEvJ4P7eIpw/8GOVP/wByH6LUVHa3MN5ax3lu26OWMOjeoIyKkr1T4Fpp2YUUUUCCiiigAooooAKKKKACiiigAooooAKKKKACiiigAooooAKKKKACiiigAooooAKKKKACiiigAooooAKKKKACiiigArxnxx/ykL%2BF/wD2Rnx5/wCnbwhXs1eM%2BOP%2BUhfwv/7Iz48/9O3hCgD2aiiigAooooAKKKKACvGf2D/%2BSIa5/wBlm%2BI//qa63Xs1eM/sH/8AJENc/wCyzfEf/wBTXW6APZqKKpeJPEeheD/Dt/4t8UapDY6ZpdlLd6je3DbY7eCNC8kjHsqqpJPoKTairsTaim3sjH%2BMHxf%2BHPwF%2BGur/Fz4s%2BKLfRvD%2Bh2huNQv7luFUcBVA5d2YhVRQWZmCgEkCvku31X9uL/gprClxoEusfAL4H3yBk1DKr4u8VWrDIaPqunQOvRuWIIIMqPgVvhT4M8W/wDBV34rad%2B038bdAutN%2BAvhbUTP8LPAWox7W8VXSEqNZ1CM9YRz5ULcEE5%2BUuZvuIAKAqjAHQCvEgquctzbccP0S0dTzb0ag%2BiVnJatqLSfzkFW4gbm5OGF%2ByleMqv95vSUab%2BzFcrmvek1FpPy39mz9iz9mP8AZI0c6Z8CPhLpukXEse291p0M%2Bo3vcma6lLSvk87d20EnCitv9oH9o/4K/st/Dy5%2BKPx18fWWgaRb/KklyxMt1LjIhgiXLzSHHCICcAngAkecfto/tvW37Ok2lfB74R%2BEW8cfGDxhmLwZ4Fs35Ocg3t4wI8i0jwxZmK7tjAFQrunNfs%2Bf8E77o/EG1/af/bk8eL8UvimgD6f9phxonhcEhhDp1oRtBU4/fMNxKhgFbczVLEeyl9Sy6nG8d3a0IX723l15Vr1k4p6/reQ8G5NlOT0s0z2Tw%2BElf2NGkoqviLOzdOLXLSpcy5ZYionG/MqUK00%2BXjEH7bn/AAUxYSM2u/AP4H3ByoUiLxf4rtz78jToHH1Yj/noj8e9/s6fsJ/sm/spxCX4I/BTSNM1Eg%2Bdr9xGbrUpifvFrqctLyckqGC88AV63RXRhsroUqntqr9pV/mlZteUVtBeUUvNt6iznjrNcfg3luXpYPA9KFFyjGX96tO6qYib6zrSkukKdONohRRRXpHxIUUUUAFFFFABRRRQAUUUUAFFFFABRRRQAUUUUAFFFFABRRRQAUUUUAFFFFABRRRQAUUUUAFeM/sv/wDJb/2jv%2ByzWP8A6hXhevZq8Z/Zf/5Lf%2B0d/wBlmsf/AFCvC9AHs1FFFABRRRQAUUUUAFFFFABRRRQAUUUUAFFFFABRRRQAUUUUAFFFFAHPfFcfEFvhzrEXwr8O6Nq3iCWzaPTdP8Qa5LptnK7EKfNuYba6eIBSxBWGTJAGADuHzn4K/ZS/ac1T/gnL4Y/Y3%2BI%2Bm%2BA9E8SeD/Aug2Gk63ofiu91Syn1bRJLOSykkSXTrV1t5ZLKN5AMugdkUSYDn6tooA8j/ZZ%2BEXxS8Dax8RPir8bYNAs/E/xI8YQ6vd6L4X1We/sdKt7fS7HTYLdLqe3tpLhitkZmcwRYacoFIQM3yR/wV%2B%2BDHhvTNW8UeJtI1DxDPea9%2Bzv44vL%2BDVfF2o39pEbbXfBso%2BzWtzPJBZDg5W3SMNgbgdq4/ROvjr/gp7o39v6/qemKm5m/ZL%2BLDxr6ulx4VdR%2BaiuHNIe0yyvHvCf/AKTI%2Bq4FxP1PjjKq/wDLicO//K9L/M%2BnfghrX/CR/Bbwh4h37vt/hfT7nd677aNs/rXUV5X%2BwtrX/CRfsT/CHWy%2B5rn4Y6C8hz/H/Z8G4fnmvVK2wk/aYWnPvGL%2B%2BMX%2Bp5ef4b6ln%2BMw/wDJWqx/8Bq1Y/8AtoUUUV0HkhRRRQAUUUUAFFFFABRRRQAUUUUAFFFFABRRRQAUUUUAFFFFABRRRQAUUUUAFFFFABRRRQAUUUUAFFFFABRRRQAV4z44/wCUhfwv/wCyM%2BPP/Tt4Qr2avGfHH/KQv4X/APZGfHn/AKdvCFAHs1FFFABWb4w8ZeEPh54Xv/HHj/xXpuh6Lpds1xqesaxfR21rZwqMtJLLIQkaAdWYgCtKvEP2/vDfiLXfgno2raJ4U1LX7Tw38S/Cuv8AiDQ9H06S8urzTbHWrS5uDFbRK0ly8Kx/aRCitJJ9n2oruVUgHpmmfGH4R618Mh8a9H%2BKXhy78GnT3vx4tttct5NMNogJe4%2B1K5i8pQrZfdtG05PFY15%2B1P8Asxad8JYfj5qH7R3gODwJcT%2BTB41m8X2S6TJJ5hj2LeGXyS29WTAbO4EdRivmrw18PbT4k/sn/Fvw94v0Lx14R07xP8S7/wAeeE7b/hWWqXV3Z2sWswXdrK%2Bmi38yZri9s3vJNOwty8N2Q8cbSHHAfC7wr8c/BHxFsv2wvjp4T8W%2BJ/Cuo/tAax4gFponwm1S2vrO2n8F2miwamvh1Rc6haxtdWl5EI3Ek4S/WeUKJZWQA/QrTtR0/V9Pg1bSb6G6tbqFZra5t5Q8csbAFXVhkMpBBBHBBrx/9g//AJIhrn/ZZviP/wCprrdUf2Mfht8ZPh3%2BwL4D%2BG0f2Lwp4usfCEEdlZ%2BItJe/h0Ld88NnPbw3EBk%2BzwskBRJkAMWFbAGT/gnTb%2BJbT9m6%2BtfGWrWN/q8fxb%2BIa6nfaZpz2ltcTjxnrXmSRQPNM0KFskI0shUEAu2MkA90r5D/AOCnHifxB8bvEfgb/gmz8M9Vmt9V%2BKt79r8cX1o3z6V4VtXD3UhP8JmZfKTPD7XQ/eFfWWu63pXhnRLzxJr18lrY6fayXN7cynCxRRqWdz7BQT%2BFfJf/AATD8Oa38c/EHjn/AIKU/EfTpIdU%2BKt%2B1n4IsrkfPpXha0kMdtEB/C0zoZXA4Yojj7xryM0bxDhgY/8ALy/N5U1bm/8AAtIL/E%2Bx4WcuWKdPLYb1r8/lSjbn/wDArqmv8Uux9X%2BFvDGgeCfDGneDPCmlRWOl6RYw2Wm2VuuEt4IkCRxqOwVVAH0rxD9uX9su8/Zz0vSPhV8HPDS%2BLPi/47lNn4B8IRnOX5DX11gjy7WEAszEqG2kZUB3Trv2xf2ovCP7H3wD1j40%2BKbZr2e3C2ugaJAT52r6lLlbe0jABJZ364BKortg7a87/YP/AGRvGXw/vNT/AGsP2pNQTW/jV4/t0k167ZcxeHrM4aPSLMZIjijG0OVPzsvVgoYvGV61SqsFhXaTScpfyR2VunM7WgtlZyekUn%2Bt8L5NlWW5W%2BI86p8%2BGpycKFDVfWa0Unyu1nHD0k4yryVm7woQanUk6ez%2BxV%2BxHYfs1w6n8VPif4qfxr8XfGOJ/HHju%2BXMkrnB%2ByWoIHkWseAqooXdsUkAKiJ73RRXfhsNQwdFUqSsl%2BL6tvdtvVt6tny%2BeZ5mfEeZzx%2BYVOepO3RJRSVowhFWjCEIpRhCKUYxSSW7ZRRRW55IUUUUAFFFFABRRRQAUUUUAFFFFABRRRQAUUUUAFFFFABRRRQAUUUUAFFFFABRRRQAUUUUAFFFFABXjP7L/wDyW/8AaO/7LNY/%2BoV4Xr2avGf2X/8Akt/7R3/ZZrH/ANQrwvQB7NRRRQAUUUUAFFFFABRRRQAUUUUAFFFFABRRRQAUUUUAFFFFABRRRQAUUUUAFfM37Y2jf8JH%2B0Lpfh7Zu%2B3/ALM3xQt9vrvu/Cq4/WvpmvEPinpsWs/t5fDrR5/uXfwQ%2BIEL59G1Twip/nWdWHtKUod0196a/U68BiHg8fRxC%2BxOEv8AwGcZf%2B2mb/wSr1r%2B3v8AgnX8Ib7fu8vwbb22f%2BuJaHH/AI5X0DXyp/wRM1OXUv8AgmR8M0uciazTVbSZT1UxateIB/3yBX1XXDk0/aZRh5d6cP8A0lH1XiVh1hPEXOaK%2BzisQv8AytUf6hRRRXpHxQUUUUAFFFFABRRRQAUUUUAFFFFABRRRQAUUUUAFFFFABRRRQAUUUUAFFFFABRRRQAUUUUAFFFFABRRRQAUUUUAFeM%2BOP%2BUhfwv/AOyM%2BPP/AE7eEK9mrxnxx/ykL%2BF//ZGfHn/p28IUAezUUUUAFFFFABRRRQAV4z%2Bwf/yRDXP%2ByzfEf/1Ndbr2avGf2D/%2BSIa5/wBlm%2BI//qa63QBw3/BXX4i%2BIPDP7Hl78JfAc2PFPxa12x8DeHIgeXl1CXZNkDnH2dZxnsWFe/8Aws%2BHnhz4OfC7w98K/C0Yi0rwxodrpliGAGIYIljUn3wuSfXNfMPxOH/DSH/BXLwN8NU/f6D8CvBdz4p1lesZ1nUMW9pC4/vpCBcIe3NdZ/wVT%2BM3if4Z/sqXfw9%2BGblvG/xS1W38FeDoEfDm6v2MUkgI5XZB5rbx91tnTNeAsTCnVxePnrGHuR8%2BTVpecqklH1RPBeSYni/jL6rQaTq1IYeMntGMfeqzfaMW5zk/5aTPO/g0j/8ABSf9syT9p/VFM/wc%2BDWpzad8L7Zx%2B58Q6%2BpAudYx0eOEgJC3I3BWUqwkWvtauO/Z9%2BC/hb9nX4I%2BFvgd4MiVdO8L6LBYQuECmdkUeZMwH8cj7pG9Wcmuxrvy7Czw1Byqu9Sb5pv%2B8%2Bi8oq0Y%2BS82fY8aZ/hs7zVUsBFwwWGj7HDwe6pRb9%2BX/TytLmrVX1nUttCKRRRRXoHyAUUUUAFFFFABRRRQAUUUUAFFFFABRRRQAUUUUAFFFFABRRRQAUUUUAFFFFABRRRQAUUUUAFFFFABRRRQAV4z%2By//AMlv/aO/7LNY/wDqFeF69mrxn9l//kt/7R3/AGWax/8AUK8L0AezUUUUAFFFFABRRRQAUUUUAFFFFABRRRQAUUUUAFFFFABRRRQAUUUUAcd%2B0H8ZtC/Z3%2BB3iz45%2BJNMur6z8KaBc6lJp9jt8%2B8aKMslvFuIXzJGCxruIG5xkgZNcN8Mf2qPHGsaH8StM%2BL3wSGj%2BNPhhax3mq%2BFvCGvPrianbTWP2y2eyne2tXleTbNB5bQoRNA4BZCjt3P7QnwZ0P9on4G%2BLPgZ4k1S6sLPxXoFzpsmoWO3z7NpYyqXEe4FfMjYrIu4EbkGQRkV5b4e/Y0%2BJmo%2BH/iZbfGP4%2B2Gr6z8XNGn0rxfrfhbwjNo72toNNFjZppytf3BtWi33M7PI05kluCV8pUVAAR/sFft42/7bcXiR7Lw14VSHw/Z6Vc/wBs%2BBPHg8R6VI99FNIbB7r7JbeVqFsIlNxa7G8pbm3O9vMIXofHH/KQv4X/APZGfHn/AKdvCFRfsvfsseN/gr488Q/FP4o/FPRPEuva54U0Hw1EvhfwWdBsLbTtJN81uTbm7ui9wzahPvk8xU2JCiRRhDuw7/4R/CjwN/wU28F%2BPfBPwx8PaPrvif4PeOJfEutaVosFvd6s8ereEvLa5mjQPOV3vguWI3HHU0Acl/wRg/0D9kDUfCHT/hHviZ4k07b/AHdt/I%2BP/IlfWlfJf/BJf/iW6L8fvCDcf2L%2B034st4l/6ZFrd1P0O419aV5ORaZRRXZW%2B6U1%2Bh%2BgeKvveIuZVP56in/4MpUKn/uQKKKK9Y/PwooooAKKKKACiiigAooooAKKKKACiiigAooooAKKKKACiiigAooooAKKKKACiiigAooooAKKKKACiiigAooooAK8Z8cf8pC/hf8A9kZ8ef8Ap28IV7NXjPjj/lIX8L/%2ByM%2BPP/Tt4QoA9mooooAKKKKACiiigArxj9hJ0i%2BBuvSSOFVfjL8RyzMcAD/hNdb5r2evl/4XeMf%2BFef8E%2B/i/wCPvN2HRPF3xdvw%2BcYMPinxBIP/AEGoq1FSpSm9km/uTf6GdarGhRlUltFN/cm/0MT/AIJH283xT8I/Ev8Abk1iIm7%2BNHxEvb3S3kHzpotjI9lYwtnnKeXMPoRxUFj/AMZcf8FYrjUT/pHg/wDZu8O/Z4O8U3ijU0%2Bdh2fybZdpHJjkUHjNb37D%2Bu6R%2By3/AMEjvBPxF16JVs/DvwnPiS5jY43q8El%2BV%2BreZgdyWq9/wSY%2BFeq%2BAf2MtD8f%2BM2abxX8Tru48beLL6RcPc3eot5yMe4xAYRjsQema%2BZwlN1aODwj/lVafm78y%2B%2BpO/pFH2PhvTfDvh1i89n/ABqkI4Wk%2BvtMVB1cTNeccPzRXZ1z6Wooor6k%2BSCiiigAooooAKKKKACiiigAooooAKKKKACiiigAooooAKKKKACiiigAooooAKKKKACiiigAooooAKKKKACiiigArxn9l/8A5Lf%2B0d/2Wax/9QrwvXs1eM/sv/8AJb/2jv8Ass1j/wCoV4XoA9mooooAKKKKACiiigAooooAKKKKACiiigAooooAKKKKACiiigAooooAKKKKACvGfHH/ACkL%2BF//AGRnx5/6dvCFezV83fG74iQeD/8Agqd%2Bz54SupAB4s%2BFHxIsIEPeaK68K3YI%2BiW0v5%2B1ROcacby8vxdvzZFSpClHmltovvaS/Fo5z/gnF/xKP2i/2qPCHTyfjQ2o7f8Ar7tI3z%2BOyvrSvkv9jP8A4k//AAUq/a58LHhW1DwbqMI/vefpMhcj/gQAr60rzMl0wHL2nUX3VJ/5n6H4ne9xX7b/AJ%2BYfBz/APAsFhn/AO2hRRRXrH5%2BFFFFABRRRQAUUUUAFFFFABRRRQAUUUUAFFFFABRRRQAUUUUAFFFFABRRRQAUUUUAFFFFABRRRQAUUUUAFFFFABXjPjj/AJSF/C//ALIz48/9O3hCvZq8Z8cf8pC/hf8A9kZ8ef8Ap28IUAezUUUUAFfP3/BS46YP2a7X/hNPL/4Qr/hYXhf/AIWR9o/49/8AhHv7ZtPtv2rPH2Py/wDj53fu/s3n%2BZ%2B7319A0UAfnfqPij4cv/wTM%2BNHgj4Y%2BJ9Ph8FTeOL9/h3b6PcRtZ2PhSfW4Lc3/kJkvoEdz9vdxGBC9hFKkTCMoR4xJpPwruPh7ZeCdS%2BJfwSsvAEX7Q2uzWHjvXPBsU3wevV/4RK0ZI7XR2vkhiHnzSxxoL9kF/aahMJHkf7MP13ooA8J/Yk1D4hW/wDwTo%2BFd34S8ITXXiKD4YaPHZaV468Qz273EqWkSA3V4LSSVd4G/ebbd8wzGpyB85fF/wAc%2BJfCH/BEr40%2BI/GWnWOm6vd%2BNfiFY6nZaZqL3dtBcXnjvVLWSKKd4YWmQNMVDtFGWGCUXOB%2BgdfnH%2B1Sf7d/4J42fwl6/wDCf/tieIPD/lf89PM%2BIWtTbff/AFGfwrzM6m4ZRXa35JJerXKvxkjx%2BIZyp5FiXHdwkl6yXKvxkj0X/go1pOqeFf8Agn78OP2LvDE722r/ABH1jwv4AtBD9%2BGEeUZ5MdkEduUYngCSvs3QtE0vw1oln4c0OzW3stPtI7azt0%2B7FFGoVFHsFAH4V8n/ABY/4vt/wV7%2BGvw4X99pfwb%2BHupeLdSXrH/aGoOLK3jf/bVAJl9ASfWvrqscugp4zEVVtFxpx9KcVf8A8ml%2BB%2Br8TQjk/B2SZNHR%2BzniprzxEuSlf0w%2BHjbyn56lFFFeyfABRRRQAUUUUAFFFFABRRRQAUUUUAFFFFABRRRQAUUUUAFFFFABRRRQAUUUUAFFFFABRRRQAUUUUAFFFFABRRRQAV4z%2By//AMlv/aO/7LNY/wDqFeF69mrxn9l//kt/7R3/AGWax/8AUK8L0AezUUUUAFFFFABRRRQAUUUUAFFFFABRRRQAUUUUAFFFFABRRRQAUUUUAFFef/tV/Gq5/Zz/AGb/ABt8cdP0FNVvPDHhy6vtP0yWYxR3d0qHyIXcAlEaUorOASqknBxivPPAH7UnxJ%2BH2jfGbSf2o5PD%2Bq6r8G9Hh16%2B1jwPos%2Bn2up6XLpr3i7LW5url4Zke3u4iDO6uEjk%2BTeY0APoOvz7/wCCsXjG7%2BGH/BSD9i/4pwbkt9K1vxLaancA4EFpfXXh%2Byldv9kCcA/WvoL9gn9qPxV%2B0t4f1HVPHvxH8K3%2BrDStL1UeGdA8B6vokuj216kzxky6nOx1a2cxukOoQRQQTm3mKL1VPmL/AILI6/8ADb46%2BJNT8C/DH4naBq3i34b/AAP8Ya3qum6PrMFxe6FPaa/4NugbiGNi9uzRQTgBwpIDY6GvNzhT/sutKG8VzL/t1qX/ALb%2BJ5Gfqp/YteVP4ox5l6wcZ/jyNfM9r%2BB3/Ek/4LCfHPS%2Bn9ufDbwzqOP73kh7fP64r60r4lsfiHaaF/wUy%2BDP7RyFRoH7QvwQbR7aT%2BCG/t/L1OI7u2%2BKVY1B6nOPb7arHJpxdOtFdKk38p8s4v5qVz9V4%2BlHF/2TmFN3p18DhWn3dKM6E16xlTSfqu4UUUV7B8CFFFFABRRRQAUUUUAFFFFABRRRQAUUUUAFFFFABRRRQAUUUUAFFFFABRRRQAUUUUAFFFFABRRRQAUUUUAFFFFABXjPjj/lIX8L/wDsjPjz/wBO3hCvZq8Z8cf8pC/hf/2Rnx5/6dvCFAHs1FFFABRRRQAUUUUAFfnH4n/4qzxh%2Bzf8Jfvfbf2xfiX4g8r1/srxTrs278PN/Wv0cr8xvB3ipYf20PBeouwK/DJfjv4vbP8Ayy87xhrVpv8Ab/V4ryM7klgVF7SnTXy503%2BEWeTnNGpi8PSwlNXlWq0aaXdyqw0/A9//AOCaH/F3vjJ%2B0J%2B2PcfvI/GHxLPh/wAPTnkSaVo0QtoZI/RZGdyQOpTmvrqvmf8A4I6%2BFP8AhDv%2BCa3wq09o9r3ejXGoSMerm6vJ7jcT34lH4Yr6Yq8ki45VSlLeS536zbm//SrfI/UvE%2BvTq8fZhRpfw6E/q9P/AK94aMcPD71RcvWTCiiivUPgwooooAKKKKACiiigAooooAKKKKACiiigAooooAKKKKACiiigAooooAKKKKACiiigAooooAKKKKACiiigAooooAK8Z/Zf/wCS3/tHf9lmsf8A1CvC9ezV4z%2By/wD8lv8A2jv%2ByzWP/qFeF6APZqKKKACiiigAooooAKKKKACiiigAooooAKKKKACiiigAooooAKKKKAOd%2BLnws8G/HD4WeIvg38Q7CS60LxTotzpWrQQzNFI1vPE0b7HXDRuAxKupBVgCCCBXBfDP9jrw14DtvEkfiv4seLvHM/jYSp45vPGA0x5NfhNnFZRQTC0soEiihgjIRLdYQzTTPJ5ryFq9fooA8m/Z1/ZF8L/s769qHiyL4n%2BLvGGrXnh7TfD9tqXjC5s3ksNH09rhrSxiFpbW6lEa6nYyyrJPIXHmSvtXbyv7RPgaw%2BJ/7X3hH4aart%2By%2BIv2fPiPplzuGR5c%2BoeE4mz%2BDmvoOvGfHH/KQv4X/wDZGfHn/p28IVMoxnFxls9Pv0JnCNSDhJXTTT9GrP8ABnxDb3vivxl/wRK%2BGXx70azd/Gn7O3im21NLYH50/sfUZLSaBj/c%2ByEOw6EIM9K/TLwb4s0Px74Q0rxz4ZuxcabrWmwX%2BnzjpJBNGskbfirA/jXyF%2Bwb4J0Gfxf%2B1p%2BxP4ttvM0uL4m3t9JZH%2BDTPEFkJFiUf3diyY/3jXVf8EgvGuvX/wCyKvwQ8cXPmeJPhB4o1LwRrgOQc2UxEBAPOz7O8Sg9DsOK%2BXyWUqFalGX26fK/8dBuD%2Bbhb7j6vh%2Bcs78F6Ck71csrum%2B/scRzQ%2B6OJw3ydbzPqWiiivqj5YKKKKACiiigAooooAKKKKACiiigAooooAKKKKACiiigAooooAKKKKACiiigAooooAKKKKACiiigAooooAKKKKACvGfHH/KQv4X/APZGfHn/AKdvCFezV4z44/5SF/C//sjPjz/07eEKAPZqKKKACiivIf21/iR4%2B%2BHnwn0iy%2BGXiVtC1jxZ4/8ADvhiHxElpDO%2Bkxahqdvbz3Mcc6PE0wheQReYjxiVoy6OoKMAevUV8ha3%2B0j%2B0B4S/Yi%2BLd/B8Rv7W8c/D74gXfhDQfFd3plol3rbNf2sVpsgjhW0OovHex2sY8pLd7xULRpGzIvmFn%2B2V%2B12bOw/Z9ub34nv4t1L42ap4flWDQfCr%2BNdL0q08OW2rpbTnC%2BHhdTNOsy3Cl4PsLpHzdk7QD9DK/HvQfFePiH%2B2L8QhJ83gn4ZfETwxFJn/VS6l468QXCY9Dlwa/Tv4QfHPwX4g/Zc8PfHW08SeKPEukS%2BG4LmXUpfC0s%2Bs3rKoSRpdP0633G58wMJIbeABXDhUCgAfkZ4b1AeIf2Tv28/ib4bgvo28fftDf8ACP6Mmp6bPZ3Cj/hKbqQxyW9wiTQPsuTuikRXVuGUEED5viicoYGLXRyf/gNKo1%2BLR7HCOAWbeJPDmCl8M8dh3L0hLnbfkuW78j9cP2LfCn/CC/sffCvwc0ex9N%2BHei28wx/y0WxhDn6lsn8a9Mqromk2mg6NaaFYLtgsrWOCFfREUKP0Aq1Xv0KSo0IU19lJfckv0ObNcbLM81xGMlvVqVJ/%2BBznP/28KKKK1OAKKKKACiiigAooooAKKKKACiiigAooooAKKKKACiiigAooooAKKKKACiiigAooooAKKKKACiiigAooooAKKKKACvGf2X/%2BS3/tHf8AZZrH/wBQrwvXs1eM/sv/APJb/wBo7/ss1j/6hXhegD2aiiigAooooAKKKKACiiigAooooAKKKKACiiigAooooAKKKKACiiigAooooAK8Z8cf8pC/hf8A9kZ8ef8Ap28IV7NXjPjj/lIX8L/%2ByM%2BPP/Tt4QoA8j8X6kf2VP8AgrXp/j3xLF5PhP8AaD8JW3h9NTBwkHiPTyfs8UvYebbsI4%2B7OxA4UmoINZH7Ef8AwU91qTxbb/ZPAH7SUdj/AGPqwbFvYeKbOIxNbSdka6jIYMT88hUAHaxX2j9u79l62/a6/Zq134UWl4LHX4tmp%2BDtXV9j6brFsfMtZ1ccp82UZhzskfHNeVfDaXwh/wAFbP8AgnlN4I%2BL1q2k%2BLbd5NI8UKkQS68N%2BKbA7TcIoIMbCQLKFBGY5ihPLV8viMPWo4qVGl8XM61K%2Bze1Sm/W9/JSv9lnp%2BH2d4DhziTFZRmt/qOYQlGbSvKClKEpTius8PWjTxEY/bg6sPtJr62or5w/4J2/tQ%2BMviv4S1n9nz9oZks/jB8LLsaR42s3fB1GMAfZ9Vi6b4p49rFgANxJwFdM/R9e/hMVSxuHjWp7Po901o010aaaa7r0NuIcix3DWcVcuxdueD0lF3jOLSlCpCX2oVIOM4SW8ZLqpJFFFFdJ4wUUUUAFFFFABRRRQAUUUUAFFFFABRRRQAUUUUAFFFFABRRRQAUUUUAFFFFABRRRQAUUUUAFFFFABRRRQAV4z44/5SF/C/8A7Iz48/8ATt4Qr2avGfHH/KQv4X/9kZ8ef%2BnbwhQB7NRRRQAVzvxY%2BE/gH43%2BAr34Z/E3Q21DR794JJoYr2a2ljlhmSeCeGeB0lgmimijljlidZI5I0dGVlBHRUUAeWWv7F37OVp8Kb34Jf8ACF6hP4Y1K3kS/wBOvfFWp3BuJpL175715ZbhpWvjdOZzfFvtXmBW83KLimv7Cf7NEfgX/hAYfC%2BvxxHxO3iNtdi8fa0uutqzWv2Nr06wLz%2B0DKbT/RSxuMm3Ah/1YCV6/RQBjfDv4e%2BC/hN4F0j4Z/Dnw7b6ToOhafFZaTptqDst4I1CqoJJJ4HLEkk5JJJJr8qdN8IGP4N6h4NMZLfEz/gp/wCIUnBH3rSLxDexufdVNp%2Bpr9b6/N%2BysLLWfj5%2BzZ8MbK1jQX37UHxm8RXKRrjc9h4j1mQSN75fqa8TP6SqYH5xj/4HKEfyufdeGVFf694TGP8A5hoYqt/4LweKlf5PlfyR%2BkFFFFe2fChRRRQAUUUUAFFFFABRRRQAUUUUAFFFFABRRRQAUUUUAFFFFABRRRQAUUUUAFFFFABRRRQAUUUUAFFFFABRRRQAUUUUAFeM/sv/APJb/wBo7/ss1j/6hXhevZq8Z/Zf/wCS3/tHf9lmsf8A1CvC9AHs1FFFABRRRQAUUUUAFFFFABRRRQAUUUUAFFFFABRRRQAUUUUAFFFFAHmH7afxe8VfAP8AZM%2BIfxj8DR2p1vw/4UvLrR3voi9vDdCMiKWVQQWiRyruuRlVYZGcjz74U/HrxH8A7r45eGv2mPjZqHi3QPg9pll4im8c6zpNlb3q6ZNpj3VxDPHp1vBA7wvbTupjhVjHNErB2Uu/vvjTwb4V%2BIvg7Vvh9460C11XRNd02fT9Y0u9iDw3lrNG0csMinhkdGZSO4JrkPg5%2By38G/gLvf4aafr0E1xey3l/d6r401XU7jUZ3ght/Mu5r25lkuykNvBFF5zP5KRhY9gyCAeD/wDBLj9tXW/2t/FHxjtfFf7QPgzxfcaN4t0660PQ/B%2Bs6bexeHNLvdHsrlLHzrIt9q8md7iF7l2cSTwzhCqKsadnf/E7w34x/wCCm3gvwZpOm%2BIYbzw98HvHEd/NqvhHUbG0lL6t4Swba6uYI4L0DactbvIFyNxG5c%2B0%2BFvhj4H8FeK/E3jfwzof2bVPGOpQX/iS6%2B0yv9suIbSGzjfa7FY8QW8KYQKDs3EFiSfN/HH/ACkL%2BF//AGRnx5/6dvCFAHs1fGH7RPhb4p/8E9/2hvEP7d3wX8Kz%2BJfhp4z%2BzyfGvwVp0ObvT5IVKDXLNc4chSTMnGfmZjg74fs%2BkkjjljaKVAysCGVhkEHsa48bg1jKatLlnF3jJbxe3zTWjT0abXZrgzHARx9JJScJwfNCS3jK1r22aabUovSUW1po18t/Hj9mzwB%2B254c8M/tqfsZfFy18O/Eix08XHgn4iaQcwalb85sNQjx%2B%2BgJ3IyOpeJtwKnDxtpfsmf8FBtG%2BKPiiT9nD9pnQYfhx8atHYQar4P1KbZDqpx8t1psrHbcwyAFlVWZ1GfvqN54nxb%2ByF%2B0r%2BxP441n4zf8E4Z9M1bwrrN6dQ8U/AbXJRb2c85H7ybSrjpZysB/qziP/eCxxq6P4vf8E9f%2BCpmhH4IfHzwmPDnxB0uYwyeDPGK/2V4l0O84JNnKdrvzhgYiQwC%2BYg%2B7XgqpWoYq6tSry%2BKMrqlVt1hLpL/ybpOMklI%2B0yDj7K8wy%2Blw5xpTklT0oVoWdSlq21Sc2o18O2%2BZ4apOFSm23RlBuSn9j0V8bWnhr/gp1%2Bw9GdP8E3Vp%2B0d8OrM/6LYa3qAsPF9hbj%2BAXDAxX20Z5YGRyAAEGBXb/B7/AIKufsd/E3Wv%2BEE8aeNLv4a%2BMImEd74O%2BJ1i2jXlvIeAm6bELknoFkLHjgZxXq083w3OqeITpTfSeif%2BGXwS%2BUk/7qPZxvh3njw8sZk0o5hhlq6mGvOUV/09oW%2BsUX356Uop6KrLRv6SoqO0u7W/tY72xuY5oZkDxTROGV1IyCCOCCO9SV6p8E007MKKKKBBRRRQAUUUUAFFFFABRRRQAUUUUAFFFFABRRRQAUUUUAFFFFABRRRQAUUUUAFFFFABRRRQAV4z44/5SF/C/wD7Iz48/wDTt4Qr2avGfHH/ACkL%2BF//AGRnx5/6dvCFAHs1FFFABRRRQAUUUUAFfm/%2Bzlf2mt/8FIfBOmX04WLwYfjHrzZBPl/a/H%2BsWIOBzkkBRjkniv0gr80P%2BCeH/FX/APBRn4z%2BIT8//CIajr2hbv7n2v4l6ve7fxxmvJzb3vq9P%2BarD/yXml/7aj9A4A/c/wBr4v8A59YDE29avsaC%2B/2sl8z9Gv8AhMNJ/wCfTVP/AAR3f/xql/4TDSf%2BfTVf/BHd/wDxqvnbx9/wWR/4JvfC/wAd618NPHP7Rv2HW/DurXOmaxZf8IhrEv2e6t5Wilj3x2jI%2B10YblJU4yCRzWT/AMPy/wDglp/0dD/5ZOt//IVVLPMlhJxliaaa/vx/zM6Phb4mYijGrSyTFyjJJprD1Wmmk001CzTTTT6pp9T6f/4TDSf%2BfTVf/BHd/wDxqj/hMNJ/59NV/wDBHd//ABqvnbwD/wAFkf8Agm98UPHei/DTwN%2B0b9u1vxFq1tpmj2X/AAiGsRfaLq4lWKKPfJaKibndRuYhRnJIHNd9%2B398YPiZ%2Bz7%2BxN8U/jj8G7TTZvE/hLwPqGq6OurzMlussELSb32xybtqhmCbcOyhCyBi69eFxuDxsXLD1IzS35Wnb1sfP55wzxJwxWhSzjBVcNKabiqtOdNySdm0ppNpPRtddD0v/hMNJ/59NV/8Ed3/APGqP%2BEw0n/n01X/AMEd3/8AGq%2Be9T/bc%2BNvhX4h%2BOfBfxC%2BBXgTQtP%2BGXw8tPE3jnxPd/FS6Njbvdxao1vbW2NHEs6h9PjEsrpEUS4LRxzOgik5n4bf8FKtX%2BKuqeGdD1b4T6v4X1uL40S%2BDvEOkLLeW0MiHwfqGvwz7dY0e0vXhdIYk2/Z7SQSoGWWSFStx0nhn1V/wmGk/wDPpqv/AII7v/41R/wmGk/8%2Bmq/%2BCO7/wDjVfPP7JX7fPxJ/aH0/RLjxz%2BzB/wj934s%2BE2i/EHwnpfh7xrDqs91p18wR4JzcQWUVvcQl4mKh5EdHyHDKY66n9qvxZ8VdS%2BLXwv/AGePhb8V9Q8CN42utYutW8V6NptjdXsVvYWQkW2gW/t7i3VpJpoWZnic%2BVBKq7WYSIAeu/8ACYaT/wA%2Bmq/%2BCO7/APjVH/CYaT/z6ar/AOCO7/8AjVfOUH7Qn7SPxP8A%2BCZHhD4//D60uf8AhOdd0jw7N4hu/Cuhre3FvaS39pFrGoadZSLIJ5UszeXNvAVl3Msa7JziN%2BB8K/tL/EHxr%2BzL8QvG/jP9qr4l%2BCofhZ8Rr/w9p3iI/D/SIfEXjDzLSxuNNhl0280xkFzJJfpbJbQW1vNM6xqVidmSgD7L/wCEw0n/AJ9NV/8ABHd//GqP%2BEw0n/n01X/wR3f/AMar4c/aB/ar/bt%2BBFhofxF%2BLtp4p0a70rwJ4KvZvC/grwPDqPh/X9aubsxeIrO/1FraZrAQqY1twLi1yXVkN2xMK%2Bn%2BPfiH8SPhR%2B3QYdT/AGtvFk/w68KfDXXPH3xT8P6zouhtp2kWDP5GmW8Ultpkd8qkw6pOGa4dyNL2sX3tQB9J/wDCYaT/AM%2Bmqf8Agju//jVX7C/tNTtEvrGcSRSDKsAR3wRg8gg5BB5BFfIP/BMb9urUf2wfit8XLTWf2gfB3iaG1m0bVvDHhTwvrGm3h8M6dd2hb7HJLZszTyoRGJ5HeRRctMsbLGEUfV/g/wD5BM3/AGFL7/0rloA1aKKKACiiigAooooAKKKKACiiigAooooAKKKKACiiigAooooAKKKKACiiigArxn9l/wD5Lf8AtHf9lmsf/UK8L17NXjP7L/8AyW/9o7/ss1j/AOoV4XoA9mooooAKKKKACiiigAooooAKKKKACiiigAooooAKKKKACiiigAooooAKKKKACvGfHH/KQv4X/wDZGfHn/p28IV7NXjPjj/lIX8L/APsjPjz/ANO3hCgD2aiiigArzD9o79jH9mL9rPSRpnx7%2BD2k67NHHstNVaIw39oOo8q6iKyxjPO0NtJHINen0VlWo0cRTdOrFSi900mvuZjiMPh8VSdKtBSi900mn8mmfH8P7F/7fn7NaFP2N/23x4j0GA5s/Anxu05tRijUdI11KDFyqAfKqBQAMcnrXL/Fn9oP4r6voR8If8FGf%2BCQWreKdNtwVbXvANvaeKrXB6zxwnbPaAdclt4AzX3RRXlzyeKg4UKsoxf2XapD/wABqc1l6SRw4TAY3KMRHEZTjKuGnHWPLNtRf93mfNH/ALdqR/Q/LDwTqH/BLW21WSD9kn/gor8Rv2dtZWUmXwrqmrXlrpltKeSJ7TU08p%2BecCbaMmvePAvi3/gqXpdmLz4NftNfAD9oPR4lz9pmzpmo3CdipsHe2Un1YkV9b%2BPfhL8K/irY/wBmfE/4Z%2BH/ABJbbdv2fXtGgvEx6bZUYV4P43/4I8/8E4fHV4dTuP2ZNL0i8DborrwxqF3pbQt/eVbWVEH/AHzj2rzP7Fx%2BH/gOK/wSqUv/ACX97T/8lR90vEzxImuXNo4PM498VQXtH/3GSVW/m60jAH/BQf8Aa5%2BHQ8v9oT/glj8SrVYuJrz4capZ%2BJUcf31SExsB3wTkd6sad/wWl/YSt7tNK%2BJ/ifxX4Av5DtFh438DahaSBu4JSKRFx7tioP8Ah0tonhb5/gv%2B3J%2B0H4NCf6mwsviK1zZJ6AwTRtux7tUOofsQ/wDBRTSbN9P8If8ABU641SxYYbSvG3wl0zUFlHo8xYP%2BlPn4mobJy9VSn%2BMZUn%2BAf65cLYn/AJGHC06b/mweOaXyp4mFVfLm8tD13wT/AMFAf2HviIEHhH9rX4e3Msn3LaXxXawTn/tlK6v%2BlepaF4l8OeKLMah4a1%2By1G3PSexukmQ/8CQkV8AeNv8AgnL%2B3Hre99a%2BGH7HPjlyfnu/EnwyutPupB3/AHlkm5Sf97Ga8u1z/glp8d7G8OqTf8ExvhJcXq523vw9%2BM2taOw/3Fnm2L%2BK0f2xndL%2BJhb%2Bkai/L2iF/afhTiPiWaYZ/wB7C4fEJfOjiKcmv%2B3b%2BR%2BrtFfkr/wyz%2B3X4I/5AP7LX7TPhRI/uHwP%2B1np13CR/wBcZLdmI/2S1KPEv/BTnwP/AMgzUv2vtP2dPtfg3RvFGPzePf8A1o/1mqQ/i4Wa9L/rBB7Lw0rfws/dPyr5fj6f3uEK6%2B65%2BtNFfkt/w3D/AMFSPB3GoeL/AI23Ozq3jH9kWCzU/VrO7bj3FKP%2BCwX/AAUK8KsBq7fD6VF%2B%2BfFPwi8VWT4/7dldQf0o/wBcMtj/ABKdSP8A27/wUH9k8J1P4PEmXv8Ax1MRR/8AT2Bjb5n60UV%2BTR/4ODfjf4aITxd4b%2BEl24OClnF4lsyx9vPsmA/GtTTP%2BDkTxCjrHffsreF9RB%2B9NY/FiO1A99tzZg1S4z4ebs6jXrF/pcceHMJW/gZxltT0zHCR/CpOi/wP1Ror81tM/wCDjPwS6htf/Zfa3/vfYvifpFxj8yma14P%2BDkL9le0G7xF8EvG8OPvf2df6Rd/li8XNbx4s4df/ADEJeqkv/bS4cH5rVdqFbC1P8GOwEvyxkT9EqK%2BBdF/4ONv2D9ZwD4H%2BJ9sT187w3aPj/v1ePXT6b/wXx/4J/wB8oa61DxtZg97nwbOcf9%2By1bQ4l4fn8OJh9/8Ami5cDcVRdlh0/wDDWwsv/SMZM%2B06K%2BRLX/guj/wTQkGdR%2BOGp2Hr9r8E6tx/3xbNWtp//Bar/gmHqWPs37VNiuf%2Bfjw7qkX/AKHait457kktsTT/APA4/wCYv9RONWrxy6s/8MHL8Yykj6lor50sP%2BCtn/BODUcfZ/2t/C65/wCe7TRf%2Bhxitmx/4KZ/8E%2BtQx5H7Yvw%2BXP/AD38SQxf%2BhkVtHNcrltXh/4HH/5Il8DcbRWuV4n/AMEVn%2BVNnuVFeSWX7fn7C2oY%2By/tmfCtieit8QNOU/kZga1bP9sL9kjUMfYP2pfhzPnp5Pjewb%2BU1axx2CltVg/%2B3o//ACRx1OF%2BKKP8TAV4%2BtCuvzoo9GorjbT9or9n2/x9g%2BOvg2fPTyfE9o38pK1LT4qfDC/x9h%2BI%2BgzZ6eVrEDfyatVXoS2mn81/mcFTK80o/wATD1I%2BtOa/OCN6iqdr4g0C%2B/48dcs5s9PKuUb%2BRq4CCMg5FaJp7HHKE4O0k16q35hRRRTJCiiigArxnxx/ykL%2BF/8A2Rnx5/6dvCFezV4z44/5SF/C/wD7Iz48/wDTt4QoA9mooooAK8w/a2%2BMnjL4MfDCwvvhrZ6ZL4l8SeMNF8NaBJrcEktla3GoX8NsbqeOKSN5Y4Y5JJvKWSMymIRh49%2B9fT64348fBLw1%2B0D8Opfh34m1jU9L26lY6npetaJNHHe6XqFldRXdpdwNLHJHvjnhjbbIjxuAUdHRmUgHiWq/tk/Gbwp%2Bxr8UPinrnh/w5f8Aj34W%2BJtQ8P6k9hZTxaZeyw3EIjvorVrh52BtbmGf7Es7yvKGt45XZkc8Lb/8FIvjQf2WvHXiTSNE8Pa78StL8WatofgiC58I6noEV3FZaXb6jcalqWi3s7ahpcVtHLLugnlR7gJamN4xqFvXtEf7B3gGT4Lax8EdX%2BKvjW/tNe1P%2B2tT1q5ubBNRl18amupprQlitEVbpLmOApGEFqiW0Ua24RSpytX/AOCYn7KvxA8BeJ/Cf7QXhKD4qav4t1O81HVfGnxF0DSb/VYry40%2B104z2uyyjt7NktbGzjUQQRr/AKMjMGfczAHp/g34zaAn7PGhfHf4ueJtF8OWN14UsdW1zU7%2B9SzsLIzQRyOzSTPiOMM%2BAXbgYyTXwd/wRhl8P%2BNfjF%2B1r8avCevWer6Rr/7RM0Gj6tp12lxbXVtH4h1CZZIZUJV43W5VgykhgQQSCK/QT4PfCfwN8CPhX4e%2BDXw00SDTtB8M6RBp2l2lvbRQqkUSBQdkSIgZsFm2qoLMTgZr5H/4JP8AhZtG8D/tD%2BI54/3mtfto%2BN5UcjrFF4jEKj8GST868/F0/aYrDv8AllJ/%2BSSX6n13D%2BNWDyDOI31q0aVP78VSm/wpo%2B3KK%2BYvH/8AwU1/4QLx3rfgX/h3z%2B09rX9i6vc2H9saB8J/tNhf%2BTK0fn20v2kebC%2B3ej4G5WU4GayP%2BHsP/WNT9rT/AMM3/wDdVZyzrLIycXU1X92f/wArPziXEOTQk4yq6rT4anTT/n0fWlYvxH%2BHngz4ufD7XPhV8RtBi1Xw/wCJdIudL1zTJ2ZUurS4iaKaIlCGAZGYZUgjOQQea%2BfPAP8AwU1/4T3x3ovgX/h3z%2B09ov8AbWr21h/bGv8Awn%2BzWFh50qx%2Bfcy/aT5UKbt7vg7VVjg4r2b9pPxh8Tvh58AvF/xB%2BDPhy01nxPoOgXOpaPot7C7pqUkCGU2oCOhDyqjRo27Cu6sQwBU9eGxmGxkXKjK6W%2Bkl/wClRj%2Bp24PH4PMIuWHlzJaPSS8/tRj%2BFzGg/Y1/Z4Xwr4p8Han4Q1LV7Pxr4bt9B8VS%2BIvFep6ndalYQfafJjkubu5kn3p9rnxKHEo3L8/yJtzvA/7BX7LXw91Jdc8P%2BAtSm1IeLh4ol1bWvGOraleXGrjSJtGF3NcXl1LLOw0%2BeW3xIzLtKnG5EZfDfEf/AAUf%2BJvxI8LXPjH9lxtD1Ww8R%2BO5tI%2BFEsXhJdUbxBp1hpC3Wq3sjXOt6VbQxxXfnwB2uF2izcBJWkHl8T4N/bq%2BI3xc8R6J8eLL7Ta6d48%2BGX7O%2Bqx%2BFG1%2B9%2Bw6VP4i8Xa7bX8kH2aeLc5i8lGY5SdbWFZkliXyj0nYfYfhj9k74EeCbHRLDwd4TvdKXw54GtPB2iTad4j1CGa00W1eN4LVZUnDnaYo8yFjIwBDOwZgdH43/s9fCn9onRNP0P4paPqMw0jUTfaRf6J4ivtIvrG4MMsDPDeWE0NxFuhmmicJIA6SMrAqSK%2BTfgn%2B1T%2B1B8bv2pPhB4w1PxV4R/sTx38LfH%2Bt%2BHPh7pV1e6e1rJZ3%2BjQW0GrSma4S6lj80o1wltEbaR7hFikzk%2B3ftv6t4kn0z4UfDeXxVqvh3SPHfxXsND8Z6l4b1240%2B6hszp9/dJBDe27RT2/n3trZ2vmRtHIy3BVSpcUAehSfs7/CxPAY%2BGGjWOsaLoEXhyw0Ky0zwz4r1HSo9PsbMk26Wn2O4iNm6g7TLAUldERGdljRV4vxL/wT1/ZV8V%2BFPCfg7UfCXiS3tvBOvXeueHbvSPiPr1hfRapdLKtxfzXltex3N3cyCeYNPPJJIfOk%2Bb52zwPwi1H9oX4p/wDBNvxvofwn%2BJN3P40s9S8d%2BHPAPizWNVLXFxb6fr2qafplxJeShy0ptbaAfa3Dl2xO2/cc8V%2Bz7Z/FX4s6d8b/AIFnwX4%2BsLDwl4p0Y%2BCfD3jj9oTVrTVYb%2BXSop7vT7vxBpN1fXSRjcl0IVmutq3SblVWWKIA%2BlfEH7JfwU8XeIPDHiPxdaeJtWk8IW9hFo9lqvj/AFm5sXeyk821uLq0ku2t7%2B6jlxKLq6jln8xEcyFkVh1Hh74VeAvCvxA8R/FPQ9B8rX/FkdlHr%2BpPdSyNcx2kbpbRhXYrEiCSQhIwq7pZHILOzH83J/jV8XPF/wCzRqWv%2BMP2kvGWmav8Lv2a/EXinw1f6X4su7YXvifTtY1Gzma4eGYf27BZvYWVsv2jzYrtLwSyRl7hdv05Jb6r4j/bs8J23wY8beN31rSJW1j462t1441G78PaVptxpNxFZ6MNPlmazhvZbt7S6QQRJMkNrJJK4W4jW4APorw98MfA/hTxv4i%2BI%2BgaH5GteK2tDr959plf7UbaLyYPkZiibUOPkC56nJ5q14P/AOQTN/2Fb7/0rlrUrL8H/wDIJm/7Ct9/6Vy0AalFFFABRRRQAUUUUAFFFFABRRRQAUUUUAFFFFABRRRQAUUUUAFFFFABRRRQAV4z%2By//AMlv/aO/7LNY/wDqFeF69mrxn9l//kt/7R3/AGWax/8AUK8L0AezUUUUAFFFFABRRRQAUUUUAFFFFABRRRQAUUUUAFFFFABRRRQAUUUUAFFFFABXjPjj/lIX8L/%2ByM%2BPP/Tt4Qr2avnD9o/V/jXo/wC3h8J5/gd8P/C3iLUm%2BEfjtbu08V%2BMLnRYI4P7U8JEuktvp96zvu2jYY1GCTvyApAPo%2BivGf8AhOP%2BChf/AEa/8Gf/AA/Grf8AzL0f8Jx/wUL/AOjX/gz/AOH41b/5l6APZqK8Z/4Tj/goX/0a/wDBn/w/Grf/ADL0f8Jx/wAFC/8Ao1/4M/8Ah%2BNW/wDmXoA9mor5x0n9o79u3WPjPr/wOt/2UPhIuqeHfC%2Bka7eXL/HXVPIkg1G51K3hRCPDG4uraXOWBUAB48FiWC9R/wAJx/wUL/6Nf%2BDP/h%2BNW/8AmXoA9morxn/hOP8AgoX/ANGv/Bn/AMPxq3/zL0f8Jx/wUL/6Nf8Agz/4fjVv/mXoA9morxn/AITj/goX/wBGv/Bn/wAPxq3/AMy9cv4B/aO/bt%2BInivxv4Q0f9lD4SQ3HgPxRFoWqyXPx11QJPPJpWn6mHi2%2BGCSnk6jCpLBTvRxjADMAfR1FeM/8Jx/wUL/AOjX/gz/AOH41b/5l6P%2BE4/4KF/9Gv8AwZ/8Pxq3/wAy9AHs1FeM/wDCcf8ABQv/AKNf%2BDP/AIfjVv8A5l6P%2BE4/4KF/9Gv/AAZ/8Pxq3/zL0AezUV84/CL9o79u34y%2BFLvxf4c/ZQ%2BEltb2fijW9CkjvfjrqiuZ9L1W60ydxt8MMNjTWkjIc5KMpIU5UdR/wnH/AAUL/wCjX/gz/wCH41b/AOZegD2V0SRSkihgRyCMg1lah4C8C6vn%2B1fBek3Wev2jTonz%2BamvL/8AhOP%2BChf/AEa/8Gf/AA/Grf8AzL0f8Jx/wUL/AOjX/gz/AOH41b/5l6TjGW6uTKMZL3lc7S//AGdf2fdVz/afwK8G3Oevn%2BGLR8/nHWPe/sZfsfaln%2B0f2UfhrcZ6%2Bd4F098/nDWH/wAJx/wUL/6Nf%2BDP/h%2BNW/8AmXrl/gj%2B0d%2B3b8ePgx4Q%2BOPhX9lD4SWul%2BM/C%2Bn67pttqHx11RZ4YLu2juI0kCeGGUOFkAYKzDIOCRzWMsLhZfFTi/8At2P/AMiYSwWCn8VKL9Yxf/tp115/wT3/AGDr4ET/ALGHwsGepi8A6eh/NYRWXd/8EyP%2BCfF7nzv2Ovh%2Buf8Anj4chj/9BAq9/wAJx/wUL/6Nf%2BDP/h%2BNW/8AmXo/4Tj/AIKF/wDRr/wZ/wDD8at/8y9ZPLsulvRh/wCAR/8AkTCWU5VLfD0//AIf/IHP3X/BJ3/gnJeZ839kTwiM/wDPK1kT/wBBcVnXP/BHf/gmld5839k3Qhn/AJ5Xt4n/AKDOK7H/AITj/goX/wBGv/Bn/wAPxq3/AMy9cv8AG79o79u34D/Bjxf8cfFX7KHwkutL8GeF9Q13UrbT/jrqjTzQWltJcSJGH8MKpcrGQoZlGSMkDmsnlGUy3w8P/AI/5GTyHI5b4Wn/AOC4f/ImPcf8EUv%2BCYN1/rf2VbEZ/wCefiPVE/8AQboVRn/4Iaf8Etp%2Bf%2BGYNh9Y/GetD/28xXp3/Ccf8FC/%2BjX/AIM/%2BH41b/5l6P8AhOP%2BChf/AEa/8Gf/AA/Grf8AzL1DyPJXvhqf/gEf8jJ8OcPPfB0v/Bcf8jyWf/gg/wD8EwJvufAC9j/3PGeqn/0K5NU5/wDggZ/wTMl/1fwg1iL/AHPF9/8A1lNezf8ACcf8FC/%2BjX/gz/4fjVv/AJl6P%2BE4/wCChf8A0a/8Gf8Aw/Grf/MvUPh/In/zC0//AAFGsMjyen8FCK9Fb8pI8Om/4N%2Bv%2BCbEv3Ph94jj/wBzxZc/1JqrL/wb1/8ABOOT7nhrxbH/ALniqT%2BqmvU/i7%2B0d%2B3b8GvClp4v8R/sofCS5t7zxRomhRx2Xx11RnE%2Bqara6ZA53eGFGxZruNnOchFYgMcKeo/4Tj/goX/0a/8ABn/w/Grf/MvUPhzIH/zCw/8AAUdEcuwcPhi16TqL8qqPnuX/AIN3f%2BCdsn3LTxtH/ueJx/WI1D/xDs/sBxnNnrXxFt/%2BuPiiIfztzX0V/wAJx/wUL/6Nf%2BDP/h%2BNW/8AmXo/4Tj/AIKF/wDRr/wZ/wDD8at/8y9T/qzw/wD9AsPu/wCCbLDxjtOa/wC4tf8A%2BXnzwn/Bvb%2BxlB/x4/Fj4u2%2BOnkeL7cf%2B2lTw/8ABAv9mK1ObH9pH46W%2BOnk%2BObZf/bOvoD/AITj/goX/wBGv/Bn/wAPxq3/AMy9cv4%2B/aO/bt%2BHfivwR4Q1j9lD4STXHjzxRLoWlSW3x11QpBPHpWoamXl3eGAQnk6dMoKhjvdBjBLKLhrIVth4/j/8kKWGhLec/wDwbX/%2BXnmdv/wQy%2BCdl/x4ftjftE2%2BOnk/EWBf/bOr9v8A8EX/AALZDFh%2B3t%2B07B6eV8Uolx%2BVnXsv/Ccf8FC/%2BjX/AIM/%2BH41b/5l6P8AhOP%2BChf/AEa/8Gf/AA/Grf8AzL1a4fyWO1FffP8A%2BTOeeV4Kp8Sk/wDuLW/%2BXnkkf/BIaC1/48f%2BCkP7U8Ppt%2BLAH8rYVF8Cv2S7/wDZc/4KGeDvtv7T/wAVPiQuu/Bnxl5Y%2BJvis6odO8nVvC2fs2UXy/M80b/73lR/3a9g/wCE4/4KF/8ARr/wZ/8AD8at/wDMvVDwP4H/AGrPGP7Vnhz43fG74cfD3wzo3hn4e%2BIdDhh8K/EO%2B1q6u7rUr7RLhGZLjSLFIo0TS5QWDuxaVAFxkjooZTl%2BGqqpShZr%2B9N/g5tfgKhlOAw1ZVacGpLq5VH%2BEqkl%2BDPdaKKK9E9EKKKKACiiigAr5y/Yh8Mab4W/Z48WXtj5hF7%2B0N4/1O%2BdhnB/4TzVN7cDoqRj8Fr6Nr5K/ZK8Wftnaf8AD3xRZ/DH4B/DDV9CT40/EX%2Bz9R174u6jpt3Mv/CZ6yWMltFoFykRDbgAJnyADkE7Qmk2n2LjUqRhKCekrX87O6%2B56n1B/wAJz4J/6HDS/wDwYR//ABVL/wAJz4J/6HDSv/BhH/8AFV5b/wAJx/wUL/6Nf%2BDP/h%2BNW/8AmXo/4Tj/AIKF/wDRr/wZ/wDD8at/8y9Mg9S/4TnwT/0OGlf%2BDCP/AOKo/wCE58E/9DhpX/gwj/8Aiq8t/wCE4/4KF/8ARr/wZ/8AD8at/wDMvR/wnH/BQv8A6Nf%2BDP8A4fjVv/mXoA1L74GfsUap8ONJ%2BDup/B34W3HhHQL37ZoXhWfw9pr6bptzukbzoLYp5UMm6WU70UHMjnPzHOhp/wAOP2UdJtbWy0rwH8PbaGytNJtLKG30uxRbeDS55LjTIkAUBEtJ5ZZbdRgQSSO8YVmJPmfwR/aO/bt%2BPHwY8IfHHwr%2Byh8JLXS/GfhfT9d0221D466os8MF3bR3EaSBPDDKHCyAMFZhkHBI5rqP%2BE4/4KF/9Gv/AAZ/8Pxq3/zL0Aatj8D/ANirS/FOt%2BOdM%2BEHwut9b8SwXUPiPWIPD%2BmpdarHdY%2B0pcyhN86y7V8wOSHwN2cV0HjfSvgB8TPBFz8MviRpvg7xB4bvIUiu/D2uQ2l3YzxoysiPBKGjZVZVIBXAKgjoK4r/AITj/goX/wBGv/Bn/wAPxq3/AMy9H/Ccf8FC/wDo1/4M/wDh%2BNW/%2BZegDqh4J/ZhHh638Ijwj4DGk2nhufw9a6X9gsvs8OkTiNZtOSPbtW1kEMQeADy2ESAqdoxh3X7Pn7DF98LbX4HXvwQ%2BE83gqyvzfWfg%2BXw1pjaXBdHfmdLQx%2BSkn7x/nChvnbnk1xPxu/aO/bt%2BA/wY8X/HHxV%2Byh8JLrS/BnhfUNd1K20/466o080FpbSXEiRh/DCqXKxkKGZRkjJA5rqP%2BE4/4KF/9Gv/AAZ/8Pxq3/zL0AbviD4TfsgeLLHwxpfir4afDbU7bwTLHL4Mt9Q0bT5o9AdAgRrJXQi1KiNMGLaRsXHQVUtPgR%2BxJYfFqX4%2BWPwa%2BFcPjua7a7m8axeHdNXVpJzF5Jla8CecXMf7ssWzt%2BXOOKzf%2BE4/4KF/9Gv/AAZ/8Pxq3/zL0f8ACcf8FC/%2BjX/gz/4fjVv/AJl6APUf%2BE58E/8AQ4aX/wCDCP8A%2BKo8GHfoZnUHZNfXcsRIxuR7mRlb6FSCPY15d/wnH/BQv/o1/wCDP/h%2BNW/%2BZeuX%2BLv7R37dvwa8KWni/wAR/sofCS5t7zxRomhRx2Xx11RnE%2Bqara6ZA53eGFGxZruNnOchFYgMcKQD6Oorxn/hOP8AgoX/ANGv/Bn/AMPxq3/zL0f8Jx/wUL/6Nf8Agz/4fjVv/mXoA9morxn/AITj/goX/wBGv/Bn/wAPxq3/AMy9H/Ccf8FC/wDo1/4M/wDh%2BNW/%2BZegD2aivnHx9%2B0d%2B3b8O/FfgjwhrH7KHwkmuPHniiXQtKktvjrqhSCePStQ1MvLu8MAhPJ06ZQVDHe6DGCWXqP%2BE4/4KF/9Gv8AwZ/8Pxq3/wAy9AHs1FeM/wDCcf8ABQv/AKNf%2BDP/AIfjVv8A5l6P%2BE4/4KF/9Gv/AAZ/8Pxq3/zL0AezUV4z/wAJx/wUL/6Nf%2BDP/h%2BNW/8AmXrl9W/aO/bt0f4z6B8Drj9lD4SNqniLwvq%2Bu2dynx11TyI4NOudNt5kcnwxuDs2qQFQFIISTJUhQwB9HUV4z/wnH/BQv/o1/wCDP/h%2BNW/%2BZej/AITj/goX/wBGv/Bn/wAPxq3/AMy9AHs1FeM/8Jx/wUL/AOjX/gz/AOH41b/5l6P%2BE4/4KF/9Gv8AwZ/8Pxq3/wAy9AHs1FfOOk/tHft26x8Z9f8Agdb/ALKHwkXVPDvhfSNdvLl/jrqnkSQajc6lbwohHhjcXVtLnLAqAA8eCxLBeo/4Tj/goX/0a/8ABn/w/Grf/MvQB7NRXjP/AAnH/BQv/o1/4M/%2BH41b/wCZej/hOP8AgoX/ANGv/Bn/AMPxq3/zL0AezUV4z/wnH/BQv/o1/wCDP/h%2BNW/%2BZeuX8A/tHft2/ETxX438IaP%2Byh8JIbjwH4oi0LVZLn466oEnnk0rT9TDxbfDBJTydRhUlgp3o4xgBmAPo6ivGf8AhOP%2BChf/AEa/8Gf/AA/Grf8AzL0f8Jx/wUL/AOjX/gz/AOH41b/5l6APZq8Z/Zf/AOS3/tHf9lmsf/UK8L0f8Jx/wUL/AOjX/gz/AOH41b/5l6t/srfDn40%2BD9Y%2BKHjv46aB4X0nVPH3xCi1yz0rwn4ludWt7W1i0HR9MVXuLiys2aRpNOlcqItoWRBuY5wAet0UUUAFFFFABRRRQAUUUUAFFFFABRRRQAUUUUAFFFFABRRRQAUUUUAFFFFABXyv%2B09%2B1p8XPhh8Y/FmteAfDvg%2BTwx8H/D/AIfvfGp1rSLibVdUt9Xv5UuYLC4juI0svItrOO4zJFOLmQpGRD5fmn6orxn4z/sQ/Dj43fFI/EzXPHPirS4tRtdItfF/hrRrq1TTvFMGl3sl7YxXyy28kwWOaaXP2eWAyxyGKYyxhUAB7NRRRQAUUUUAfMfhz9pX4mQ/t/8Aij4P/EbWPD3hPw2viC00TwZFqPwi1lLrxjANAg1HEHiNrtdOaWO7udQAtBC8nl2kwCgs0i/TleV%2BLP2WoPH/AMZNI%2BKfj343%2BNdX0rw9rsetaB4AuDpkWjWOoR27wRzhobJL2XZ5kkipNdSRiR92z5EC%2BqUAFFFFAHi//BQX4u/HD9n79kfxp8evgFe%2BFI9Y8E6Fd65dQeMNFub62u7S1tpZnt0S2urZkldkRRIXKoCxKPwK8/8AHn7Wnxc8F/HjxbqfhTw74Qi%2BHnhD4x%2BEfh94ys5tIuDreq6rrsGipHqEN2lwsMccH9uaTGYpLeV5EhnxLHtQV7D%2B1j%2BzjZftafAjXv2fda%2BKvinwjpPieylsdcv/AAgunfa7mylieKa23X9pdRojq/LIiyAqNrrzni4P2AfB0/xFs/iL4q%2BOPj7XWOs6TrnibRtQl0qKx8T65piRpY6tex21hEy3EQgtMLbNBAxsbYvExjyQD3uiiigArxf9sn4u/HD4JWvgHxj8LL3wp/Y2ofEzw54e8X2PiDRbm5urm11XWbHTQbOWG6hS2kjW5lk3yJOpKIuzkmvaK8q/au/Zbf8Aaq8N6F4Xn%2BPvjfwNb6F4ksNdRvBcOjs93e2N5BeWbSnUtPvBtiuLeNwsYQNysm9TtAB5x%2Bzz%2B0r8TNb/AGqvFvwR%2BKGr%2BHvCenQ%2BKdbt/BPhKT4Razplzr1tC6Sm/t9auLv7BqDsZJpZYraAvyXYrhifpyvJdJ/ZRD/GTRfjL8R/2gPHfjWbwvd3l34T0LxCNJhsNHurm3ktZLiJbDT7aWV/s808K%2BfJKqLO%2B0AkEetUAFFFFAHh/wC3d8XPjx%2Bz98GtX%2BOvwo8Y%2BBbHT/C2i3N5e6L4s8M3t/c%2BIb3KLZ6ZZyW17B9nmuJSLdG8q6ZpZ4gsLH5W8/8Agj%2B198Z9c%2BJfgr%2B1vBnhLSPhp43%2BJ/ij4beFfDWnaXNHq%2BiX%2BgQ6tvnnuRcNbzQSN4f1NFhjt4jGrWx8yTLAen/tK/sgwftJePPBHxAm/aB8d%2BELnwDd3N7otj4Yi0aezkvZUEa3k0Gp6deI88MfmLDIApjE8pHzNkVfAf7DXw98B/GW3%2BLsPxF8XalBp2u6nr2ieENSubL%2BydK1vUY3j1DVIEitUn8%2BcT3ZZXmeFGvrkxxR%2BZwAe10UUUAFfL/7XPx4/aX%2BC3xE0/wppUPgDxro/jmHWrbRfhzF4PvpNYS1tNDuruS/uJxevFdWwuore2khFrED9vhQTGRkST6grw6b9ia4j/aP8V/tNaJ%2B1X8S9O1fxbpsOnXOlwweH57TT7OGBo4baza50mW5t4lld7rYs2153LuHB20AM/YQ/aD8b/Hv4e3l18V/H2jX3i7ThZtr/huy%2BF2r%2BEbzQHntllEFzZavdT3Dgtv8u4ASORUO0NtJr3SvN/gd%2Bzdp3wZ8T%2BJPiHrHxS8U%2BOPFXiuKxt9Y8T%2BLmsFuXtLMTfZbVItPtbW2jija5uXG2EMzXEhZmyMekUAFFFFAHxz/AMFBP24/ip%2Bxh45/tPXNF0Dxj4RfRtR1u38Ky/DnU7KW3TTdGvtSST/hIprp9Mnu/temjZYrAl0I5llA2wtI3r37NHxd%2BOerfFTxv%2Bz1%2B0dc%2BFNQ8T%2BEdJ0PWo9a8FaRc2Fjc2OqC8jSIwXNzcussVxp12pfzcSIYm2RklRW%2BOv7CXgj9pzWrq1%2BP/xb8a%2BKPBdzJcSL8MryTTYdFikmsZrJm329lHfSAR3EzBJbp0Dvu2/IgXp/2fP2ZtI%2BAd5r3iK7%2BKHizxx4j8SGzj1bxV41uLN76W2tIjFa2o%2Bx21vCsUQeVhiPezzyu7Ozk0AelUUUUAFfEf7U/wC2V%2B1n8G/jV4g%2BFHg7w34c8a6nYaLca74YCfA/xBHJooGo6ZaoYW%2B3OPE0gsdUuPO/svynhaErKIxMI6%2B3K8P179i3U/Evj0/E7Wv2ufijNrenwXkXg28KaAB4VW6mhkn%2ByRjSdk7NHAtvuvVumWJnClXdnIB1X7LHxYf4yfCODxZe/EzRvFV/DqN1ZapfaN4MvvDotriKVla1m03ULie6s54xhXjmcPn5tqhgK9GrhvgH8BfD3wA8M6no2leKdb8Qajr%2BvXGt%2BJPEniOaBr3Vb%2BYIjTyi3ihgTEcUMSpDFHGqRIAowSe5oAKKKKACiiigAooooAKKKKAKPijxDYeEvDWo%2BK9VDm10yxmu7kRLlvLjQu2B3OFNfOf7E37Sfxr8f%2BKdH8GfGzw94Msx46%2BFtl8RvDMPgzSri0GmR3lwTd6fdma4lF3NG9zbP9sQQCdpZiYI9oL/AEtd2lrf2stje26TQzRtHNFKoZXUjBUg8EEcYryH9mb9ivwF%2BzBqr6voHxB8W%2BJZbbwxY%2BGfDo8WXtrMNA0KzeR7fTbU29vCWjUyfNLOZriQRxeZM/lrgA9iooooAK4X9qDx58RfhZ%2BzR8RPid8H/Ci694t8OeBdX1TwtobWM10NR1G3s5Zba2MMDLLMJJURPLjYO27CkEg13VZ3i3RL/wAS%2BGNQ8P6X4r1HQrm9tJIbfWtIWBrqxdlIE0QuIpYi6nkCSN0yPmVhkEA8u/Yp%2BLU/xQ%2BGd9Zat8QvD%2Bs6n4d1VdOvNM0T4Yan4OfQ0FtBJFZ3Glapcz3MLhHEiu3lo8UsWxMDe/sVeefAf9nbSfgdeeJfEdz8RPEnjHxJ4v1GG88ReKfFb2Yu7ow26W8EQjsba2tooo40AVY4UyWdmLMzMfQ6ACiiigD5c/ao/ax%2BKH7OHxe8cWXxK0bwl4i%2BF9h%2Bzv4v8e22hW%2BiXCaq7aINLWe2uLmS5e3minW%2BnAQWyFQiZd8sK7f9mf4v/HzVPi54y/Z1/aWfwleeKPDHhjw94lj1XwVpNzY2Ullqz6lbrbGG5ublzLDcaRdgyiQLIjxN5cZ3LUHxj/YV8O/HT46t8ZfHnx28cy6bN4K1PwjffD2GDRf7Eu9G1Jbb7faSF9Na9Ina0gdnF0HUoQjIjMh6T9nf9l3Q/wBn2%2B1rxHP8UPFvjfxDr9rYWV/4n8bXNpJemwsUkWzsx9ktrePyojPcOCUMjvcyu7uzZoA9PooooAK%2BRPjX%2B0v%2B1t4M139oDwJb%2BFfBniy98BeH/CniT4bWOk/D/U7%2BdY9R1XUoQl5axXjy6jPAumxzqbYW5LkhV%2BVWr67rwuX9ijxDF8dPG3x/0L9tD4raVq3jfSLHTLmxsrPww1ppttZXFzPZpbCXRXk/dG8ulBmeUus5EnmFUKgHV/sqfFub4y/CkeJtR%2BJ2jeKdRtdVubHVrrR/BF/4bNncRN81rPpmo3E91aTopXckzBiGVtqqwr0muE%2BAfwD0D4A6FrNjp/i3XPEeq%2BJvEEuueJ/E3iSW3a91W/khhg82QW0MMEYWC3t4VSKKNFSFAFzknu6ACiiigD42/aW/a7/aW/Z4%2BM0Hw21lPhn41vtbggm8Iw6d4WvbSXwXeal4h0zw9pE2pyvfTC6inbV5wWiWzkcWN0sYZfMMXuP7Kvxf%2BJHxGHj/AOH3xiOiT%2BKvhp48bw1rOq%2BGtOms7DU/M0vTtWt7iG3mnnkt82uqW6PG00uJI5MMQRjhbb/gmr4Sa6%2BIb%2BIf2l/idrNv8SdeOuaxb6kdC8yz1KK4hn0%2B5trqLS0ulNg9vbi0jeaSKJYUDI/OfWPgH8BdD%2BAfh7VtNsvF%2BueJNW8Ra9NrXifxR4le2N/q99JHFD50wtYIIF2QQW8CJFFGixwRqF4JIB3VFFFADLn7T9mk%2Bx7PO2HyvNzt3Y4zjnGa%2BIPit%2B1z%2B2n8NPiJrnw2t7bwH4z17wxe%2BGrfVvHXgj4K6/q0fhy31Zrx72wl0qz1Ke7uZo4bKxuiYp0/d3ULSwIDE0n29dwyXFrLbw3UkDyRsqzxBS8ZIwGXcCuR1GQR6g189/Bj9gLxB8BPhtcfDT4d/t1fGKKO61Z9Tm1m8svCc%2BoS3cryyXM80z6EftMk7y7pJJxI%2BY02FAMEA9Z%2BAnxDsvit8HfD/wAQrD4gaN4qTU9PEj6/4f0mawtLuQErIUtZ5ppbYq6sjQySO8bKysdykDr65L4F/Bfwl%2Bz78L9O%2BFPgq5v7iysJbq4mvtVuRNdX13dXMt1dXUzhVDSzXE80r7VVd0h2qq4UdbQAVR8Tw%2BJLnw3qFv4N1OxstXkspV0u81Owe6toLgoRHJLDHLE00atgsiyRlgCA6k7herN8Y6Df%2BKPC1/4d0vxbqWg3N5avFBrWjiA3Vi5HE0QuIpYi6nkCSN0OPmVhkUAfD3w3/bs/a1%2BMHxT1v4JfCzTfh8njPTbXXb6Txn4r%2BF2taGuqaZpFrosqWMuiXl8moafK934h2JNPM8flQyXCQus6A/Y3wC%2BLWm/Hz4E%2BCvjro2my2dn418Jabr1pZzPueCK8tY7hY2IAyVEgBPqK8W1f/gmR4H1rXL74i3f7SnxTT4gasl5a618Sba90iHVr/TLq2tbabTCiaaLOG2KWVow8i2ilWSBZVlDlmP0H4L8H%2BGvh54O0nwB4M0mLT9H0PTINP0mwhzstraGNY4o1zzhUVVH0oA06KKKAOX%2BNOo%2BONG%2BFuta38OfENjperWFmbqG%2B1Dwfe%2BIESOMh5QNOsZ4Lm8kaJXVIoZA5dlwrn5G%2BLfhL/wAFEfj94k8aaHqfje48I%2BBPBmpTzr4g8cXnwM8RTW2sX8Ov3WkIlzKt9GnhmeS1tLX9xqjSSwPKsb52BK%2B2/iZ4M13x74Sm8OeG/ilr/g28kljeLX/DMVi93BtYEqq39tcwMGAKkPE3BOMHBHit1/wTm8Kah4PuPhtq37SHxNu/DGuahNf%2BPNAmuNHEXjC7nvGuria%2BlXTRcReaWWFo7OW1iEMSRqijduAPomiiigAooooAKKKKACiiigAooooAKKKKACiiigAooooAKKKKACiiigAooooAKKKKACiiigAooooAKKKKACiiigAooooAKKKKACiiigAooooAKKKKACiiigAooooAKKKKACiiigAooooAKKKKACiiigAooooAKKKKACiiigAooooAKKKKACiiigAooooAKKKKACiiigAooooAKKKKACiiigAooooAKKKKACiiigAooooAKKKKACiiigAooooAKKKKACiiigAooooAKKKKACiiigAooooAKKKKACiiigAooooAKKKKACiiigAooooAKKKKACiiigD/2Q%3D%3D\">"
            ]
          },
          "metadata": {
            "tags": []
          }
        }
      ]
    },
    {
      "cell_type": "markdown",
      "metadata": {
        "id": "GI83qU_xJHok",
        "colab_type": "text"
      },
      "source": [
        "# Submit a linear model"
      ]
    },
    {
      "cell_type": "code",
      "metadata": {
        "id": "QRUw9u19JHol",
        "colab_type": "code",
        "colab": {}
      },
      "source": [
        "## GRADED PART, DO NOT CHANGE!\n",
        "# Testing shapes \n",
        "grader.set_answer(\"9XaAS\", grading_utils.get_tensors_shapes_string([W, b, input_X, input_y, logits, probas, classes]))\n",
        "# Validation loss\n",
        "grader.set_answer(\"vmogZ\", s.run(loss, {input_X: X_val_flat, input_y: y_val_oh}))\n",
        "# Validation accuracy\n",
        "grader.set_answer(\"RMv95\", accuracy_score(y_val, s.run(classes, {input_X: X_val_flat})))"
      ],
      "execution_count": 0,
      "outputs": []
    },
    {
      "cell_type": "code",
      "metadata": {
        "id": "fZzJF0Y5JHol",
        "colab_type": "code",
        "colab": {
          "base_uri": "https://localhost:8080/",
          "height": 55
        },
        "outputId": "149e4fe4-a698-4ebb-d85e-05c88a65ed97"
      },
      "source": [
        "# you can make submission with answers so far to check yourself at this stage\n",
        "grader.submit(COURSERA_EMAIL, COURSERA_TOKEN)"
      ],
      "execution_count": 78,
      "outputs": [
        {
          "output_type": "stream",
          "text": [
            "You used an invalid email or your token may have expired. Please make sure you have entered all fields correctly. Try generating a new token if the issue still persists.\n"
          ],
          "name": "stdout"
        }
      ]
    },
    {
      "cell_type": "markdown",
      "metadata": {
        "id": "r0U7XIIWJHon",
        "colab_type": "text"
      },
      "source": [
        "# MLP with hidden layers"
      ]
    },
    {
      "cell_type": "markdown",
      "metadata": {
        "id": "_qyMtGJAJHon",
        "colab_type": "text"
      },
      "source": [
        "Previously we've coded a dense layer with matrix multiplication by hand. \n",
        "But this is not convenient, you have to create a lot of variables and your code becomes a mess. \n",
        "In TensorFlow there's an easier way to make a dense layer:\n",
        "```python\n",
        "hidden1 = tf.layers.dense(inputs, 256, activation=tf.nn.sigmoid)\n",
        "```\n",
        "\n",
        "That will create all the necessary variables automatically.\n",
        "Here you can also choose an activation function (remember that we need it for a hidden layer!).\n",
        "\n",
        "Now define the MLP with 2 hidden layers and restart training with the cell above.\n",
        "\n",
        "You're aiming for ~0.97 validation accuracy here."
      ]
    },
    {
      "cell_type": "code",
      "metadata": {
        "id": "uUxQiEyAJHon",
        "colab_type": "code",
        "colab": {}
      },
      "source": [
        "# write the code here to get a new `step` operation and then run the cell with training loop above.\n",
        "# name your variables in the same way (e.g. logits, probas, classes, etc) for safety.\n",
        "### YOUR CODE HERE ###"
      ],
      "execution_count": 0,
      "outputs": []
    },
    {
      "cell_type": "markdown",
      "metadata": {
        "id": "qqr7gAVwJHoo",
        "colab_type": "text"
      },
      "source": [
        "# Submit the MLP with 2 hidden layers\n",
        "Run these cells after training the MLP with 2 hidden layers"
      ]
    },
    {
      "cell_type": "code",
      "metadata": {
        "id": "v3fEDgv6JHop",
        "colab_type": "code",
        "colab": {}
      },
      "source": [
        "## GRADED PART, DO NOT CHANGE!\n",
        "# Validation loss for MLP\n",
        "grader.set_answer(\"i8bgs\", s.run(loss, {input_X: X_val_flat, input_y: y_val_oh}))\n",
        "# Validation accuracy for MLP\n",
        "grader.set_answer(\"rE763\", accuracy_score(y_val, s.run(classes, {input_X: X_val_flat})))"
      ],
      "execution_count": 0,
      "outputs": []
    },
    {
      "cell_type": "code",
      "metadata": {
        "id": "U9IXM6eOJHoq",
        "colab_type": "code",
        "colab": {}
      },
      "source": [
        "# you can make submission with answers so far to check yourself at this stage\n",
        "grader.submit(COURSERA_EMAIL, COURSERA_TOKEN)"
      ],
      "execution_count": 0,
      "outputs": []
    },
    {
      "cell_type": "code",
      "metadata": {
        "id": "2-B9nG9uJHor",
        "colab_type": "code",
        "colab": {}
      },
      "source": [
        ""
      ],
      "execution_count": 0,
      "outputs": []
    }
  ]
}